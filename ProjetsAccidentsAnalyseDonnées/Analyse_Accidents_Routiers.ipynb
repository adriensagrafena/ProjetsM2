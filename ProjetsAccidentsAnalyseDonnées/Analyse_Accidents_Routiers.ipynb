{
 "cells": [
  {
   "cell_type": "markdown",
   "metadata": {},
   "source": [
    "# Analyse de données sur les accidents routiers corporels en 2019\n",
    "`Valentine CROIBIEN - Adrien SAGRAFENA`"
   ]
  },
  {
   "cell_type": "markdown",
   "metadata": {},
   "source": [
    "# Création du jeu de données\n",
    "## Importation des bibliothèques nécessaires"
   ]
  },
  {
   "cell_type": "code",
   "execution_count": 1,
   "metadata": {},
   "outputs": [
    {
     "name": "stderr",
     "output_type": "stream",
     "text": [
      "/opt/anaconda3/lib/python3.7/site-packages/statsmodels/tools/_testing.py:19: FutureWarning: pandas.util.testing is deprecated. Use the functions in the public API at pandas.testing instead.\n",
      "  import pandas.util.testing as tm\n"
     ]
    }
   ],
   "source": [
    "import pandas as pd\n",
    "import numpy as np\n",
    "from datetime import date as dt\n",
    "import seaborn as sns\n",
    "import matplotlib.pyplot as plt"
   ]
  },
  {
   "cell_type": "markdown",
   "metadata": {},
   "source": [
    "## Importation des données et choix des variables"
   ]
  },
  {
   "cell_type": "markdown",
   "metadata": {},
   "source": [
    "### Données correspondant aux caractéristiques de l'accident"
   ]
  },
  {
   "cell_type": "code",
   "execution_count": 2,
   "metadata": {},
   "outputs": [
    {
     "data": {
      "text/html": [
       "<div>\n",
       "<style scoped>\n",
       "    .dataframe tbody tr th:only-of-type {\n",
       "        vertical-align: middle;\n",
       "    }\n",
       "\n",
       "    .dataframe tbody tr th {\n",
       "        vertical-align: top;\n",
       "    }\n",
       "\n",
       "    .dataframe thead th {\n",
       "        text-align: right;\n",
       "    }\n",
       "</style>\n",
       "<table border=\"1\" class=\"dataframe\">\n",
       "  <thead>\n",
       "    <tr style=\"text-align: right;\">\n",
       "      <th></th>\n",
       "      <th>Num_Acc</th>\n",
       "      <th>jour</th>\n",
       "      <th>mois</th>\n",
       "      <th>hrmn</th>\n",
       "      <th>lum</th>\n",
       "      <th>dep</th>\n",
       "      <th>com</th>\n",
       "      <th>agg</th>\n",
       "      <th>int</th>\n",
       "      <th>atm</th>\n",
       "      <th>col</th>\n",
       "    </tr>\n",
       "  </thead>\n",
       "  <tbody>\n",
       "    <tr>\n",
       "      <th>count</th>\n",
       "      <td>5.884000e+04</td>\n",
       "      <td>58840.000000</td>\n",
       "      <td>58840.000000</td>\n",
       "      <td>58840</td>\n",
       "      <td>58840.000000</td>\n",
       "      <td>58840</td>\n",
       "      <td>58840</td>\n",
       "      <td>58840.000000</td>\n",
       "      <td>58840.000000</td>\n",
       "      <td>58840.000000</td>\n",
       "      <td>58840.000000</td>\n",
       "    </tr>\n",
       "    <tr>\n",
       "      <th>unique</th>\n",
       "      <td>NaN</td>\n",
       "      <td>NaN</td>\n",
       "      <td>NaN</td>\n",
       "      <td>1386</td>\n",
       "      <td>NaN</td>\n",
       "      <td>107</td>\n",
       "      <td>11444</td>\n",
       "      <td>NaN</td>\n",
       "      <td>NaN</td>\n",
       "      <td>NaN</td>\n",
       "      <td>NaN</td>\n",
       "    </tr>\n",
       "    <tr>\n",
       "      <th>top</th>\n",
       "      <td>NaN</td>\n",
       "      <td>NaN</td>\n",
       "      <td>NaN</td>\n",
       "      <td>18:00</td>\n",
       "      <td>NaN</td>\n",
       "      <td>75</td>\n",
       "      <td>75116</td>\n",
       "      <td>NaN</td>\n",
       "      <td>NaN</td>\n",
       "      <td>NaN</td>\n",
       "      <td>NaN</td>\n",
       "    </tr>\n",
       "    <tr>\n",
       "      <th>freq</th>\n",
       "      <td>NaN</td>\n",
       "      <td>NaN</td>\n",
       "      <td>NaN</td>\n",
       "      <td>784</td>\n",
       "      <td>NaN</td>\n",
       "      <td>5610</td>\n",
       "      <td>629</td>\n",
       "      <td>NaN</td>\n",
       "      <td>NaN</td>\n",
       "      <td>NaN</td>\n",
       "      <td>NaN</td>\n",
       "    </tr>\n",
       "    <tr>\n",
       "      <th>mean</th>\n",
       "      <td>2.019000e+11</td>\n",
       "      <td>15.683396</td>\n",
       "      <td>6.687542</td>\n",
       "      <td>NaN</td>\n",
       "      <td>1.944867</td>\n",
       "      <td>NaN</td>\n",
       "      <td>NaN</td>\n",
       "      <td>1.645887</td>\n",
       "      <td>2.025357</td>\n",
       "      <td>1.617794</td>\n",
       "      <td>4.165058</td>\n",
       "    </tr>\n",
       "    <tr>\n",
       "      <th>std</th>\n",
       "      <td>1.698579e+04</td>\n",
       "      <td>8.719610</td>\n",
       "      <td>3.387344</td>\n",
       "      <td>NaN</td>\n",
       "      <td>1.504409</td>\n",
       "      <td>NaN</td>\n",
       "      <td>NaN</td>\n",
       "      <td>0.478248</td>\n",
       "      <td>1.997756</td>\n",
       "      <td>1.677988</td>\n",
       "      <td>1.954030</td>\n",
       "    </tr>\n",
       "    <tr>\n",
       "      <th>min</th>\n",
       "      <td>2.019000e+11</td>\n",
       "      <td>1.000000</td>\n",
       "      <td>1.000000</td>\n",
       "      <td>NaN</td>\n",
       "      <td>1.000000</td>\n",
       "      <td>NaN</td>\n",
       "      <td>NaN</td>\n",
       "      <td>1.000000</td>\n",
       "      <td>1.000000</td>\n",
       "      <td>-1.000000</td>\n",
       "      <td>-1.000000</td>\n",
       "    </tr>\n",
       "    <tr>\n",
       "      <th>25%</th>\n",
       "      <td>2.019000e+11</td>\n",
       "      <td>8.000000</td>\n",
       "      <td>4.000000</td>\n",
       "      <td>NaN</td>\n",
       "      <td>1.000000</td>\n",
       "      <td>NaN</td>\n",
       "      <td>NaN</td>\n",
       "      <td>1.000000</td>\n",
       "      <td>1.000000</td>\n",
       "      <td>1.000000</td>\n",
       "      <td>3.000000</td>\n",
       "    </tr>\n",
       "    <tr>\n",
       "      <th>50%</th>\n",
       "      <td>2.019000e+11</td>\n",
       "      <td>16.000000</td>\n",
       "      <td>7.000000</td>\n",
       "      <td>NaN</td>\n",
       "      <td>1.000000</td>\n",
       "      <td>NaN</td>\n",
       "      <td>NaN</td>\n",
       "      <td>2.000000</td>\n",
       "      <td>1.000000</td>\n",
       "      <td>1.000000</td>\n",
       "      <td>3.000000</td>\n",
       "    </tr>\n",
       "    <tr>\n",
       "      <th>75%</th>\n",
       "      <td>2.019000e+11</td>\n",
       "      <td>23.000000</td>\n",
       "      <td>10.000000</td>\n",
       "      <td>NaN</td>\n",
       "      <td>3.000000</td>\n",
       "      <td>NaN</td>\n",
       "      <td>NaN</td>\n",
       "      <td>2.000000</td>\n",
       "      <td>2.000000</td>\n",
       "      <td>1.000000</td>\n",
       "      <td>6.000000</td>\n",
       "    </tr>\n",
       "    <tr>\n",
       "      <th>max</th>\n",
       "      <td>2.019001e+11</td>\n",
       "      <td>31.000000</td>\n",
       "      <td>12.000000</td>\n",
       "      <td>NaN</td>\n",
       "      <td>5.000000</td>\n",
       "      <td>NaN</td>\n",
       "      <td>NaN</td>\n",
       "      <td>2.000000</td>\n",
       "      <td>9.000000</td>\n",
       "      <td>9.000000</td>\n",
       "      <td>7.000000</td>\n",
       "    </tr>\n",
       "  </tbody>\n",
       "</table>\n",
       "</div>"
      ],
      "text/plain": [
       "             Num_Acc          jour          mois   hrmn           lum    dep  \\\n",
       "count   5.884000e+04  58840.000000  58840.000000  58840  58840.000000  58840   \n",
       "unique           NaN           NaN           NaN   1386           NaN    107   \n",
       "top              NaN           NaN           NaN  18:00           NaN     75   \n",
       "freq             NaN           NaN           NaN    784           NaN   5610   \n",
       "mean    2.019000e+11     15.683396      6.687542    NaN      1.944867    NaN   \n",
       "std     1.698579e+04      8.719610      3.387344    NaN      1.504409    NaN   \n",
       "min     2.019000e+11      1.000000      1.000000    NaN      1.000000    NaN   \n",
       "25%     2.019000e+11      8.000000      4.000000    NaN      1.000000    NaN   \n",
       "50%     2.019000e+11     16.000000      7.000000    NaN      1.000000    NaN   \n",
       "75%     2.019000e+11     23.000000     10.000000    NaN      3.000000    NaN   \n",
       "max     2.019001e+11     31.000000     12.000000    NaN      5.000000    NaN   \n",
       "\n",
       "          com           agg           int           atm           col  \n",
       "count   58840  58840.000000  58840.000000  58840.000000  58840.000000  \n",
       "unique  11444           NaN           NaN           NaN           NaN  \n",
       "top     75116           NaN           NaN           NaN           NaN  \n",
       "freq      629           NaN           NaN           NaN           NaN  \n",
       "mean      NaN      1.645887      2.025357      1.617794      4.165058  \n",
       "std       NaN      0.478248      1.997756      1.677988      1.954030  \n",
       "min       NaN      1.000000      1.000000     -1.000000     -1.000000  \n",
       "25%       NaN      1.000000      1.000000      1.000000      3.000000  \n",
       "50%       NaN      2.000000      1.000000      1.000000      3.000000  \n",
       "75%       NaN      2.000000      2.000000      1.000000      6.000000  \n",
       "max       NaN      2.000000      9.000000      9.000000      7.000000  "
      ]
     },
     "execution_count": 2,
     "metadata": {},
     "output_type": "execute_result"
    }
   ],
   "source": [
    "carac = pd.read_csv(\"data/caracteristiques-2019.csv\", sep=\";\")\n",
    "var_carac = [\"Num_Acc\",\"jour\",\"mois\",\"hrmn\",\"lum\",\"dep\",\"com\",\"agg\",\"int\",\"atm\",\"col\"]\n",
    "carac = carac[var_carac]\n",
    "carac.describe(include = \"all\")"
   ]
  },
  {
   "cell_type": "markdown",
   "metadata": {},
   "source": [
    "### Données correspondant aux usagers impliqués dans l'accident"
   ]
  },
  {
   "cell_type": "code",
   "execution_count": 3,
   "metadata": {},
   "outputs": [
    {
     "data": {
      "text/html": [
       "<div>\n",
       "<style scoped>\n",
       "    .dataframe tbody tr th:only-of-type {\n",
       "        vertical-align: middle;\n",
       "    }\n",
       "\n",
       "    .dataframe tbody tr th {\n",
       "        vertical-align: top;\n",
       "    }\n",
       "\n",
       "    .dataframe thead th {\n",
       "        text-align: right;\n",
       "    }\n",
       "</style>\n",
       "<table border=\"1\" class=\"dataframe\">\n",
       "  <thead>\n",
       "    <tr style=\"text-align: right;\">\n",
       "      <th></th>\n",
       "      <th>Num_Acc</th>\n",
       "      <th>id_vehicule</th>\n",
       "      <th>catu</th>\n",
       "      <th>place</th>\n",
       "      <th>grav</th>\n",
       "      <th>sexe</th>\n",
       "      <th>an_nais</th>\n",
       "      <th>trajet</th>\n",
       "    </tr>\n",
       "  </thead>\n",
       "  <tbody>\n",
       "    <tr>\n",
       "      <th>count</th>\n",
       "      <td>1.329770e+05</td>\n",
       "      <td>132977</td>\n",
       "      <td>132977.000000</td>\n",
       "      <td>132977.000000</td>\n",
       "      <td>132977.000000</td>\n",
       "      <td>132977.000000</td>\n",
       "      <td>132977.000000</td>\n",
       "      <td>132977.000000</td>\n",
       "    </tr>\n",
       "    <tr>\n",
       "      <th>unique</th>\n",
       "      <td>NaN</td>\n",
       "      <td>98670</td>\n",
       "      <td>NaN</td>\n",
       "      <td>NaN</td>\n",
       "      <td>NaN</td>\n",
       "      <td>NaN</td>\n",
       "      <td>NaN</td>\n",
       "      <td>NaN</td>\n",
       "    </tr>\n",
       "    <tr>\n",
       "      <th>top</th>\n",
       "      <td>NaN</td>\n",
       "      <td>138 212 691</td>\n",
       "      <td>NaN</td>\n",
       "      <td>NaN</td>\n",
       "      <td>NaN</td>\n",
       "      <td>NaN</td>\n",
       "      <td>NaN</td>\n",
       "      <td>NaN</td>\n",
       "    </tr>\n",
       "    <tr>\n",
       "      <th>freq</th>\n",
       "      <td>NaN</td>\n",
       "      <td>33</td>\n",
       "      <td>NaN</td>\n",
       "      <td>NaN</td>\n",
       "      <td>NaN</td>\n",
       "      <td>NaN</td>\n",
       "      <td>NaN</td>\n",
       "      <td>NaN</td>\n",
       "    </tr>\n",
       "    <tr>\n",
       "      <th>mean</th>\n",
       "      <td>2.019000e+11</td>\n",
       "      <td>NaN</td>\n",
       "      <td>1.352587</td>\n",
       "      <td>2.184754</td>\n",
       "      <td>2.542635</td>\n",
       "      <td>1.320304</td>\n",
       "      <td>1980.079600</td>\n",
       "      <td>3.224279</td>\n",
       "    </tr>\n",
       "    <tr>\n",
       "      <th>std</th>\n",
       "      <td>1.699444e+04</td>\n",
       "      <td>NaN</td>\n",
       "      <td>0.630635</td>\n",
       "      <td>2.695724</td>\n",
       "      <td>1.371815</td>\n",
       "      <td>0.466595</td>\n",
       "      <td>19.164625</td>\n",
       "      <td>2.667380</td>\n",
       "    </tr>\n",
       "    <tr>\n",
       "      <th>min</th>\n",
       "      <td>2.019000e+11</td>\n",
       "      <td>NaN</td>\n",
       "      <td>1.000000</td>\n",
       "      <td>1.000000</td>\n",
       "      <td>1.000000</td>\n",
       "      <td>1.000000</td>\n",
       "      <td>1900.000000</td>\n",
       "      <td>-1.000000</td>\n",
       "    </tr>\n",
       "    <tr>\n",
       "      <th>25%</th>\n",
       "      <td>2.019000e+11</td>\n",
       "      <td>NaN</td>\n",
       "      <td>1.000000</td>\n",
       "      <td>1.000000</td>\n",
       "      <td>1.000000</td>\n",
       "      <td>1.000000</td>\n",
       "      <td>1967.000000</td>\n",
       "      <td>0.000000</td>\n",
       "    </tr>\n",
       "    <tr>\n",
       "      <th>50%</th>\n",
       "      <td>2.019000e+11</td>\n",
       "      <td>NaN</td>\n",
       "      <td>1.000000</td>\n",
       "      <td>1.000000</td>\n",
       "      <td>3.000000</td>\n",
       "      <td>1.000000</td>\n",
       "      <td>1983.000000</td>\n",
       "      <td>4.000000</td>\n",
       "    </tr>\n",
       "    <tr>\n",
       "      <th>75%</th>\n",
       "      <td>2.019000e+11</td>\n",
       "      <td>NaN</td>\n",
       "      <td>2.000000</td>\n",
       "      <td>2.000000</td>\n",
       "      <td>4.000000</td>\n",
       "      <td>2.000000</td>\n",
       "      <td>1995.000000</td>\n",
       "      <td>5.000000</td>\n",
       "    </tr>\n",
       "    <tr>\n",
       "      <th>max</th>\n",
       "      <td>2.019001e+11</td>\n",
       "      <td>NaN</td>\n",
       "      <td>3.000000</td>\n",
       "      <td>10.000000</td>\n",
       "      <td>4.000000</td>\n",
       "      <td>2.000000</td>\n",
       "      <td>2019.000000</td>\n",
       "      <td>9.000000</td>\n",
       "    </tr>\n",
       "  </tbody>\n",
       "</table>\n",
       "</div>"
      ],
      "text/plain": [
       "             Num_Acc  id_vehicule           catu          place  \\\n",
       "count   1.329770e+05       132977  132977.000000  132977.000000   \n",
       "unique           NaN        98670            NaN            NaN   \n",
       "top              NaN  138 212 691            NaN            NaN   \n",
       "freq             NaN           33            NaN            NaN   \n",
       "mean    2.019000e+11          NaN       1.352587       2.184754   \n",
       "std     1.699444e+04          NaN       0.630635       2.695724   \n",
       "min     2.019000e+11          NaN       1.000000       1.000000   \n",
       "25%     2.019000e+11          NaN       1.000000       1.000000   \n",
       "50%     2.019000e+11          NaN       1.000000       1.000000   \n",
       "75%     2.019000e+11          NaN       2.000000       2.000000   \n",
       "max     2.019001e+11          NaN       3.000000      10.000000   \n",
       "\n",
       "                 grav           sexe        an_nais         trajet  \n",
       "count   132977.000000  132977.000000  132977.000000  132977.000000  \n",
       "unique            NaN            NaN            NaN            NaN  \n",
       "top               NaN            NaN            NaN            NaN  \n",
       "freq              NaN            NaN            NaN            NaN  \n",
       "mean         2.542635       1.320304    1980.079600       3.224279  \n",
       "std          1.371815       0.466595      19.164625       2.667380  \n",
       "min          1.000000       1.000000    1900.000000      -1.000000  \n",
       "25%          1.000000       1.000000    1967.000000       0.000000  \n",
       "50%          3.000000       1.000000    1983.000000       4.000000  \n",
       "75%          4.000000       2.000000    1995.000000       5.000000  \n",
       "max          4.000000       2.000000    2019.000000       9.000000  "
      ]
     },
     "execution_count": 3,
     "metadata": {},
     "output_type": "execute_result"
    }
   ],
   "source": [
    "usagers = pd.read_csv(\"data/usagers-2019.csv\", sep=\";\")\n",
    "var_usagers = [\"Num_Acc\",\"id_vehicule\",\"catu\",\"place\", \"grav\",\"sexe\",\"an_nais\",\"trajet\"]\n",
    "usagers = usagers[var_usagers]\n",
    "usagers.describe(include = \"all\")"
   ]
  },
  {
   "cell_type": "markdown",
   "metadata": {},
   "source": [
    "## Jointure des deux jeux de données"
   ]
  },
  {
   "cell_type": "code",
   "execution_count": 4,
   "metadata": {},
   "outputs": [],
   "source": [
    "victime = usagers.merge(carac, on=\"Num_Acc\")"
   ]
  },
  {
   "cell_type": "markdown",
   "metadata": {},
   "source": [
    "## Création de la variable `Date` à partir des variables `jour` et `mois`"
   ]
  },
  {
   "cell_type": "code",
   "execution_count": 5,
   "metadata": {
    "scrolled": true
   },
   "outputs": [
    {
     "name": "stderr",
     "output_type": "stream",
     "text": [
      "/opt/anaconda3/lib/python3.7/site-packages/ipykernel_launcher.py:13: FutureWarning: Treating datetime data as categorical rather than numeric in `.describe` is deprecated and will be removed in a future version of pandas. Specify `datetime_is_numeric=True` to silence this warning and adopt the future behavior now.\n",
      "  del sys.path[0]\n"
     ]
    },
    {
     "data": {
      "text/html": [
       "<div>\n",
       "<style scoped>\n",
       "    .dataframe tbody tr th:only-of-type {\n",
       "        vertical-align: middle;\n",
       "    }\n",
       "\n",
       "    .dataframe tbody tr th {\n",
       "        vertical-align: top;\n",
       "    }\n",
       "\n",
       "    .dataframe thead th {\n",
       "        text-align: right;\n",
       "    }\n",
       "</style>\n",
       "<table border=\"1\" class=\"dataframe\">\n",
       "  <thead>\n",
       "    <tr style=\"text-align: right;\">\n",
       "      <th></th>\n",
       "      <th>Num_Acc</th>\n",
       "      <th>id_vehicule</th>\n",
       "      <th>catu</th>\n",
       "      <th>place</th>\n",
       "      <th>grav</th>\n",
       "      <th>sexe</th>\n",
       "      <th>an_nais</th>\n",
       "      <th>trajet</th>\n",
       "      <th>hrmn</th>\n",
       "      <th>lum</th>\n",
       "      <th>dep</th>\n",
       "      <th>com</th>\n",
       "      <th>agg</th>\n",
       "      <th>int</th>\n",
       "      <th>atm</th>\n",
       "      <th>col</th>\n",
       "      <th>date</th>\n",
       "    </tr>\n",
       "  </thead>\n",
       "  <tbody>\n",
       "    <tr>\n",
       "      <th>count</th>\n",
       "      <td>1.329770e+05</td>\n",
       "      <td>132977</td>\n",
       "      <td>132977.000000</td>\n",
       "      <td>132977.000000</td>\n",
       "      <td>132977.000000</td>\n",
       "      <td>132977.000000</td>\n",
       "      <td>132977.000000</td>\n",
       "      <td>132977.000000</td>\n",
       "      <td>132977</td>\n",
       "      <td>132977.000000</td>\n",
       "      <td>132977</td>\n",
       "      <td>132977</td>\n",
       "      <td>132977.000000</td>\n",
       "      <td>132977.000000</td>\n",
       "      <td>132977.000000</td>\n",
       "      <td>132977.000000</td>\n",
       "      <td>132977</td>\n",
       "    </tr>\n",
       "    <tr>\n",
       "      <th>unique</th>\n",
       "      <td>NaN</td>\n",
       "      <td>98670</td>\n",
       "      <td>NaN</td>\n",
       "      <td>NaN</td>\n",
       "      <td>NaN</td>\n",
       "      <td>NaN</td>\n",
       "      <td>NaN</td>\n",
       "      <td>NaN</td>\n",
       "      <td>1386</td>\n",
       "      <td>NaN</td>\n",
       "      <td>107</td>\n",
       "      <td>11444</td>\n",
       "      <td>NaN</td>\n",
       "      <td>NaN</td>\n",
       "      <td>NaN</td>\n",
       "      <td>NaN</td>\n",
       "      <td>365</td>\n",
       "    </tr>\n",
       "    <tr>\n",
       "      <th>top</th>\n",
       "      <td>NaN</td>\n",
       "      <td>138 212 691</td>\n",
       "      <td>NaN</td>\n",
       "      <td>NaN</td>\n",
       "      <td>NaN</td>\n",
       "      <td>NaN</td>\n",
       "      <td>NaN</td>\n",
       "      <td>NaN</td>\n",
       "      <td>18:00</td>\n",
       "      <td>NaN</td>\n",
       "      <td>75</td>\n",
       "      <td>75116</td>\n",
       "      <td>NaN</td>\n",
       "      <td>NaN</td>\n",
       "      <td>NaN</td>\n",
       "      <td>NaN</td>\n",
       "      <td>2019-06-21 00:00:00</td>\n",
       "    </tr>\n",
       "    <tr>\n",
       "      <th>freq</th>\n",
       "      <td>NaN</td>\n",
       "      <td>33</td>\n",
       "      <td>NaN</td>\n",
       "      <td>NaN</td>\n",
       "      <td>NaN</td>\n",
       "      <td>NaN</td>\n",
       "      <td>NaN</td>\n",
       "      <td>NaN</td>\n",
       "      <td>1870</td>\n",
       "      <td>NaN</td>\n",
       "      <td>11895</td>\n",
       "      <td>1418</td>\n",
       "      <td>NaN</td>\n",
       "      <td>NaN</td>\n",
       "      <td>NaN</td>\n",
       "      <td>NaN</td>\n",
       "      <td>571</td>\n",
       "    </tr>\n",
       "    <tr>\n",
       "      <th>first</th>\n",
       "      <td>NaN</td>\n",
       "      <td>NaN</td>\n",
       "      <td>NaN</td>\n",
       "      <td>NaN</td>\n",
       "      <td>NaN</td>\n",
       "      <td>NaN</td>\n",
       "      <td>NaN</td>\n",
       "      <td>NaN</td>\n",
       "      <td>NaN</td>\n",
       "      <td>NaN</td>\n",
       "      <td>NaN</td>\n",
       "      <td>NaN</td>\n",
       "      <td>NaN</td>\n",
       "      <td>NaN</td>\n",
       "      <td>NaN</td>\n",
       "      <td>NaN</td>\n",
       "      <td>2019-01-01 00:00:00</td>\n",
       "    </tr>\n",
       "    <tr>\n",
       "      <th>last</th>\n",
       "      <td>NaN</td>\n",
       "      <td>NaN</td>\n",
       "      <td>NaN</td>\n",
       "      <td>NaN</td>\n",
       "      <td>NaN</td>\n",
       "      <td>NaN</td>\n",
       "      <td>NaN</td>\n",
       "      <td>NaN</td>\n",
       "      <td>NaN</td>\n",
       "      <td>NaN</td>\n",
       "      <td>NaN</td>\n",
       "      <td>NaN</td>\n",
       "      <td>NaN</td>\n",
       "      <td>NaN</td>\n",
       "      <td>NaN</td>\n",
       "      <td>NaN</td>\n",
       "      <td>2019-12-31 00:00:00</td>\n",
       "    </tr>\n",
       "    <tr>\n",
       "      <th>mean</th>\n",
       "      <td>2.019000e+11</td>\n",
       "      <td>NaN</td>\n",
       "      <td>1.352587</td>\n",
       "      <td>2.184754</td>\n",
       "      <td>2.542635</td>\n",
       "      <td>1.320304</td>\n",
       "      <td>1980.079600</td>\n",
       "      <td>3.224279</td>\n",
       "      <td>NaN</td>\n",
       "      <td>1.932710</td>\n",
       "      <td>NaN</td>\n",
       "      <td>NaN</td>\n",
       "      <td>1.622596</td>\n",
       "      <td>2.016552</td>\n",
       "      <td>1.614279</td>\n",
       "      <td>3.890071</td>\n",
       "      <td>NaN</td>\n",
       "    </tr>\n",
       "    <tr>\n",
       "      <th>std</th>\n",
       "      <td>1.699444e+04</td>\n",
       "      <td>NaN</td>\n",
       "      <td>0.630635</td>\n",
       "      <td>2.695724</td>\n",
       "      <td>1.371815</td>\n",
       "      <td>0.466595</td>\n",
       "      <td>19.164625</td>\n",
       "      <td>2.667380</td>\n",
       "      <td>NaN</td>\n",
       "      <td>1.495194</td>\n",
       "      <td>NaN</td>\n",
       "      <td>NaN</td>\n",
       "      <td>0.484739</td>\n",
       "      <td>1.982705</td>\n",
       "      <td>1.672985</td>\n",
       "      <td>1.862988</td>\n",
       "      <td>NaN</td>\n",
       "    </tr>\n",
       "    <tr>\n",
       "      <th>min</th>\n",
       "      <td>2.019000e+11</td>\n",
       "      <td>NaN</td>\n",
       "      <td>1.000000</td>\n",
       "      <td>1.000000</td>\n",
       "      <td>1.000000</td>\n",
       "      <td>1.000000</td>\n",
       "      <td>1900.000000</td>\n",
       "      <td>-1.000000</td>\n",
       "      <td>NaN</td>\n",
       "      <td>1.000000</td>\n",
       "      <td>NaN</td>\n",
       "      <td>NaN</td>\n",
       "      <td>1.000000</td>\n",
       "      <td>1.000000</td>\n",
       "      <td>-1.000000</td>\n",
       "      <td>-1.000000</td>\n",
       "      <td>NaN</td>\n",
       "    </tr>\n",
       "    <tr>\n",
       "      <th>25%</th>\n",
       "      <td>2.019000e+11</td>\n",
       "      <td>NaN</td>\n",
       "      <td>1.000000</td>\n",
       "      <td>1.000000</td>\n",
       "      <td>1.000000</td>\n",
       "      <td>1.000000</td>\n",
       "      <td>1967.000000</td>\n",
       "      <td>0.000000</td>\n",
       "      <td>NaN</td>\n",
       "      <td>1.000000</td>\n",
       "      <td>NaN</td>\n",
       "      <td>NaN</td>\n",
       "      <td>1.000000</td>\n",
       "      <td>1.000000</td>\n",
       "      <td>1.000000</td>\n",
       "      <td>3.000000</td>\n",
       "      <td>NaN</td>\n",
       "    </tr>\n",
       "    <tr>\n",
       "      <th>50%</th>\n",
       "      <td>2.019000e+11</td>\n",
       "      <td>NaN</td>\n",
       "      <td>1.000000</td>\n",
       "      <td>1.000000</td>\n",
       "      <td>3.000000</td>\n",
       "      <td>1.000000</td>\n",
       "      <td>1983.000000</td>\n",
       "      <td>4.000000</td>\n",
       "      <td>NaN</td>\n",
       "      <td>1.000000</td>\n",
       "      <td>NaN</td>\n",
       "      <td>NaN</td>\n",
       "      <td>2.000000</td>\n",
       "      <td>1.000000</td>\n",
       "      <td>1.000000</td>\n",
       "      <td>3.000000</td>\n",
       "      <td>NaN</td>\n",
       "    </tr>\n",
       "    <tr>\n",
       "      <th>75%</th>\n",
       "      <td>2.019000e+11</td>\n",
       "      <td>NaN</td>\n",
       "      <td>2.000000</td>\n",
       "      <td>2.000000</td>\n",
       "      <td>4.000000</td>\n",
       "      <td>2.000000</td>\n",
       "      <td>1995.000000</td>\n",
       "      <td>5.000000</td>\n",
       "      <td>NaN</td>\n",
       "      <td>3.000000</td>\n",
       "      <td>NaN</td>\n",
       "      <td>NaN</td>\n",
       "      <td>2.000000</td>\n",
       "      <td>2.000000</td>\n",
       "      <td>1.000000</td>\n",
       "      <td>6.000000</td>\n",
       "      <td>NaN</td>\n",
       "    </tr>\n",
       "    <tr>\n",
       "      <th>max</th>\n",
       "      <td>2.019001e+11</td>\n",
       "      <td>NaN</td>\n",
       "      <td>3.000000</td>\n",
       "      <td>10.000000</td>\n",
       "      <td>4.000000</td>\n",
       "      <td>2.000000</td>\n",
       "      <td>2019.000000</td>\n",
       "      <td>9.000000</td>\n",
       "      <td>NaN</td>\n",
       "      <td>5.000000</td>\n",
       "      <td>NaN</td>\n",
       "      <td>NaN</td>\n",
       "      <td>2.000000</td>\n",
       "      <td>9.000000</td>\n",
       "      <td>9.000000</td>\n",
       "      <td>7.000000</td>\n",
       "      <td>NaN</td>\n",
       "    </tr>\n",
       "  </tbody>\n",
       "</table>\n",
       "</div>"
      ],
      "text/plain": [
       "             Num_Acc  id_vehicule           catu          place  \\\n",
       "count   1.329770e+05       132977  132977.000000  132977.000000   \n",
       "unique           NaN        98670            NaN            NaN   \n",
       "top              NaN  138 212 691            NaN            NaN   \n",
       "freq             NaN           33            NaN            NaN   \n",
       "first            NaN          NaN            NaN            NaN   \n",
       "last             NaN          NaN            NaN            NaN   \n",
       "mean    2.019000e+11          NaN       1.352587       2.184754   \n",
       "std     1.699444e+04          NaN       0.630635       2.695724   \n",
       "min     2.019000e+11          NaN       1.000000       1.000000   \n",
       "25%     2.019000e+11          NaN       1.000000       1.000000   \n",
       "50%     2.019000e+11          NaN       1.000000       1.000000   \n",
       "75%     2.019000e+11          NaN       2.000000       2.000000   \n",
       "max     2.019001e+11          NaN       3.000000      10.000000   \n",
       "\n",
       "                 grav           sexe        an_nais         trajet    hrmn  \\\n",
       "count   132977.000000  132977.000000  132977.000000  132977.000000  132977   \n",
       "unique            NaN            NaN            NaN            NaN    1386   \n",
       "top               NaN            NaN            NaN            NaN   18:00   \n",
       "freq              NaN            NaN            NaN            NaN    1870   \n",
       "first             NaN            NaN            NaN            NaN     NaN   \n",
       "last              NaN            NaN            NaN            NaN     NaN   \n",
       "mean         2.542635       1.320304    1980.079600       3.224279     NaN   \n",
       "std          1.371815       0.466595      19.164625       2.667380     NaN   \n",
       "min          1.000000       1.000000    1900.000000      -1.000000     NaN   \n",
       "25%          1.000000       1.000000    1967.000000       0.000000     NaN   \n",
       "50%          3.000000       1.000000    1983.000000       4.000000     NaN   \n",
       "75%          4.000000       2.000000    1995.000000       5.000000     NaN   \n",
       "max          4.000000       2.000000    2019.000000       9.000000     NaN   \n",
       "\n",
       "                  lum     dep     com            agg            int  \\\n",
       "count   132977.000000  132977  132977  132977.000000  132977.000000   \n",
       "unique            NaN     107   11444            NaN            NaN   \n",
       "top               NaN      75   75116            NaN            NaN   \n",
       "freq              NaN   11895    1418            NaN            NaN   \n",
       "first             NaN     NaN     NaN            NaN            NaN   \n",
       "last              NaN     NaN     NaN            NaN            NaN   \n",
       "mean         1.932710     NaN     NaN       1.622596       2.016552   \n",
       "std          1.495194     NaN     NaN       0.484739       1.982705   \n",
       "min          1.000000     NaN     NaN       1.000000       1.000000   \n",
       "25%          1.000000     NaN     NaN       1.000000       1.000000   \n",
       "50%          1.000000     NaN     NaN       2.000000       1.000000   \n",
       "75%          3.000000     NaN     NaN       2.000000       2.000000   \n",
       "max          5.000000     NaN     NaN       2.000000       9.000000   \n",
       "\n",
       "                  atm            col                 date  \n",
       "count   132977.000000  132977.000000               132977  \n",
       "unique            NaN            NaN                  365  \n",
       "top               NaN            NaN  2019-06-21 00:00:00  \n",
       "freq              NaN            NaN                  571  \n",
       "first             NaN            NaN  2019-01-01 00:00:00  \n",
       "last              NaN            NaN  2019-12-31 00:00:00  \n",
       "mean         1.614279       3.890071                  NaN  \n",
       "std          1.672985       1.862988                  NaN  \n",
       "min         -1.000000      -1.000000                  NaN  \n",
       "25%          1.000000       3.000000                  NaN  \n",
       "50%          1.000000       3.000000                  NaN  \n",
       "75%          1.000000       6.000000                  NaN  \n",
       "max          9.000000       7.000000                  NaN  "
      ]
     },
     "execution_count": 5,
     "metadata": {},
     "output_type": "execute_result"
    }
   ],
   "source": [
    "date = []\n",
    "for i in range(len(victime)):\n",
    "    jour = victime[\"jour\"][i]\n",
    "    mois = victime[\"mois\"][i]\n",
    "    jour_mois = str(mois) + \"/\" + str(jour) + \"/2019\"\n",
    "    date.append(jour_mois)\n",
    "    \n",
    "victime[\"date\"] = date\n",
    "\n",
    "victime[\"date\"] = pd.to_datetime(victime['date'])\n",
    "\n",
    "victime = victime.drop(columns = [\"jour\", \"mois\"])\n",
    "victime.describe(include = \"all\")"
   ]
  },
  {
   "cell_type": "markdown",
   "metadata": {},
   "source": [
    "## Changement du type des variables"
   ]
  },
  {
   "cell_type": "markdown",
   "metadata": {},
   "source": [
    "### La variable `Num_Acc` devient une variable caractère"
   ]
  },
  {
   "cell_type": "code",
   "execution_count": 6,
   "metadata": {},
   "outputs": [],
   "source": [
    "num = []\n",
    "for i in range(len(victime)):\n",
    "    num.append(str(victime[\"Num_Acc\"][i]))\n",
    "    \n",
    "victime[\"Num_Acc\"] = num"
   ]
  },
  {
   "cell_type": "markdown",
   "metadata": {},
   "source": [
    "### Les variables `lum`, `agg`, `int`, `col`, `atm`, `catu`, `grav`, `sexe`, `trajet`, `place` deviennent des variables catégorielles."
   ]
  },
  {
   "cell_type": "markdown",
   "metadata": {},
   "source": [
    "### Changement modalités des variables"
   ]
  },
  {
   "cell_type": "code",
   "execution_count": 7,
   "metadata": {},
   "outputs": [],
   "source": [
    "lum = [\"Plein jour\", \"Crépuscule ou aube\",\"Nuit sans éclairage public\",\"Nuit avec éclairage public non allumé\",\n",
    "       \"Nuit avec éclairage public allumé\"]\n",
    "v_lum = []\n",
    "\n",
    "for i in range(len(victime)):\n",
    "    j = victime[\"lum\"][i] - 1\n",
    "    v_lum.append(lum[j])\n",
    "    \n",
    "victime[\"lum\"] = v_lum"
   ]
  },
  {
   "cell_type": "code",
   "execution_count": 8,
   "metadata": {},
   "outputs": [],
   "source": [
    "agg = [\"Hors agglomération\", \"En agglomération\"]\n",
    "v_agg = []\n",
    "\n",
    "for i in range(len(victime)):\n",
    "    j = victime[\"agg\"][i] - 1\n",
    "    v_agg.append(agg[j])\n",
    "    \n",
    "victime[\"agg\"] = v_agg"
   ]
  },
  {
   "cell_type": "code",
   "execution_count": 9,
   "metadata": {},
   "outputs": [],
   "source": [
    "inte = [\"Hors intersection\",\"Intersection en X\",\"Intersection en T\",\"Intersection en Y\",\"Intersection à plus de 4 branches\",  \n",
    "        \"Giratoire\",\"Place\",\"Passage à niveau\",\"Autre intersection\"]\n",
    "\n",
    "v_int = []\n",
    "\n",
    "for i in range(len(victime)):\n",
    "    j = victime[\"int\"][i] - 1\n",
    "    v_int.append(inte[j])\n",
    "    \n",
    "victime[\"int\"] = v_int"
   ]
  },
  {
   "cell_type": "markdown",
   "metadata": {},
   "source": [
    "### Suppression des accidents dont le type de condition atmosphérique n'a pas été indiqué"
   ]
  },
  {
   "cell_type": "code",
   "execution_count": 10,
   "metadata": {},
   "outputs": [
    {
     "data": {
      "text/plain": [
       "1"
      ]
     },
     "execution_count": 10,
     "metadata": {},
     "output_type": "execute_result"
    }
   ],
   "source": [
    "victime.loc[(victime['atm'] == -1 ),:].shape[0]"
   ]
  },
  {
   "cell_type": "code",
   "execution_count": 11,
   "metadata": {},
   "outputs": [],
   "source": [
    "victime = victime.loc[~(victime['atm'] == -1 ),:]"
   ]
  },
  {
   "cell_type": "code",
   "execution_count": 12,
   "metadata": {},
   "outputs": [
    {
     "data": {
      "text/plain": [
       "atm\n",
       "1    105340\n",
       "2     14749\n",
       "3      3244\n",
       "4       617\n",
       "5       723\n",
       "6       367\n",
       "7      2336\n",
       "8      4944\n",
       "9       656\n",
       "dtype: int64"
      ]
     },
     "execution_count": 12,
     "metadata": {},
     "output_type": "execute_result"
    }
   ],
   "source": [
    "victime.groupby(\"atm\").size()"
   ]
  },
  {
   "cell_type": "code",
   "execution_count": 13,
   "metadata": {},
   "outputs": [],
   "source": [
    "atm = [\"Normale\", \"Pluie légère\", \"Pluie forte\", \"Neige - Grêle\", \"Brouillard - Fumée\", \"Vent fort - Tempête\", \n",
    "       \"Temps éblouissant\", \"Temps couvert\", \"Autre\"]\n",
    "\n",
    "v_atm = []\n",
    "\n",
    "for i in victime.index.values:\n",
    "    j = victime[\"atm\"][i] - 1\n",
    "    v_atm.append(atm[j])\n",
    "    \n",
    "victime[\"atm\"] = v_atm"
   ]
  },
  {
   "cell_type": "markdown",
   "metadata": {},
   "source": [
    "### Suppression des accidents dont le type de collision n'a pas été indiqué"
   ]
  },
  {
   "cell_type": "code",
   "execution_count": 14,
   "metadata": {},
   "outputs": [
    {
     "data": {
      "text/plain": [
       "1"
      ]
     },
     "execution_count": 14,
     "metadata": {},
     "output_type": "execute_result"
    }
   ],
   "source": [
    "victime.loc[(victime['col'] == -1 ),:].shape[0]"
   ]
  },
  {
   "cell_type": "code",
   "execution_count": 15,
   "metadata": {},
   "outputs": [],
   "source": [
    "victime = victime.loc[~(victime['col'] == -1 ),:]"
   ]
  },
  {
   "cell_type": "code",
   "execution_count": 16,
   "metadata": {},
   "outputs": [
    {
     "data": {
      "text/plain": [
       "col\n",
       "1    13956\n",
       "2    17977\n",
       "3    40350\n",
       "4     9292\n",
       "5     7899\n",
       "6    34838\n",
       "7     8663\n",
       "dtype: int64"
      ]
     },
     "execution_count": 16,
     "metadata": {},
     "output_type": "execute_result"
    }
   ],
   "source": [
    "victime.groupby(\"col\").size()"
   ]
  },
  {
   "cell_type": "code",
   "execution_count": 17,
   "metadata": {},
   "outputs": [],
   "source": [
    "col = [\"Deux véhicules - frontale\", \"Deux véhicules - par l'arrière\", \"Deux véhicules - par le côté\", \n",
    "       \"Trois véhicules et plus - en chaîne\", \"Trois véhicules et plus - collisions multiples\", \"Autre collision\", \n",
    "       \"Sans collision\"]\n",
    "\n",
    "v_col = []\n",
    "for i in victime.index.values:\n",
    "    j = victime[\"col\"][i] - 1\n",
    "    v_col.append(col[j])\n",
    "    \n",
    "victime[\"col\"] = v_col"
   ]
  },
  {
   "cell_type": "code",
   "execution_count": 18,
   "metadata": {},
   "outputs": [],
   "source": [
    "grav = [\"Indemne\", \"Tué\", \"Blessé hospitalisé\", \"Blessé léger\"]\n",
    "\n",
    "v_grav = []\n",
    "for i in victime.index.values:\n",
    "    j = victime[\"grav\"][i] - 1\n",
    "    v_grav.append(grav[j])\n",
    "    \n",
    "victime[\"grav\"] = v_grav"
   ]
  },
  {
   "cell_type": "code",
   "execution_count": 19,
   "metadata": {},
   "outputs": [],
   "source": [
    "sexe = [\"Masculin\", \"Féminin\"]\n",
    "v_sexe = []\n",
    "for i in victime.index.values:\n",
    "    j = victime[\"sexe\"][i] - 1\n",
    "    v_sexe.append(sexe[j])\n",
    "    \n",
    "victime[\"sexe\"] = v_sexe"
   ]
  },
  {
   "cell_type": "code",
   "execution_count": 20,
   "metadata": {},
   "outputs": [],
   "source": [
    "trajet = [\"Autre\", \"Domicile – travail\", \"Domicile – école\", \"Courses – achats\", \n",
    "          \"Utilisation professionnelle\", \"Promenade – loisirs\"]\n",
    "\n",
    "v_traj = []\n",
    "for i in victime.index.values:\n",
    "    if (victime[\"trajet\"][i] == -1) or (victime[\"trajet\"][i] == 9):\n",
    "        v_traj.append(trajet[0])\n",
    "    else :\n",
    "        j = victime[\"trajet\"][i]\n",
    "        v_traj.append(trajet[j])\n",
    "victime[\"trajet\"] = v_traj"
   ]
  },
  {
   "cell_type": "code",
   "execution_count": 21,
   "metadata": {},
   "outputs": [],
   "source": [
    "place = [\"Conducteur\", \"Passager Avant\", \"Passager\", \"Passager\", \"Passager\", \"Passager Avant\", \"Passager\", \n",
    "         \"Passager\", \"Passager\", \"Piéton\"]\n",
    "v_place = []\n",
    "for i in victime.index.values:\n",
    "    j = victime[\"place\"][i] - 1\n",
    "    v_place.append(place[j])\n",
    "\n",
    "        \n",
    "victime[\"place\"] = v_place"
   ]
  },
  {
   "cell_type": "code",
   "execution_count": 22,
   "metadata": {},
   "outputs": [],
   "source": [
    "victime[\"lum\"] = victime[\"lum\"].astype(\"category\")\n",
    "victime[\"agg\"] = victime[\"agg\"].astype(\"category\")\n",
    "victime[\"int\"] = victime[\"int\"].astype(\"category\")\n",
    "victime[\"col\"] = victime[\"col\"].astype(\"category\")\n",
    "victime[\"atm\"] = victime[\"atm\"].astype(\"category\")\n",
    "victime[\"catu\"] = victime[\"catu\"].astype(\"category\")\n",
    "victime[\"grav\"] = victime[\"grav\"].astype(\"category\")\n",
    "victime[\"sexe\"] = victime[\"sexe\"].astype(\"category\")\n",
    "victime[\"trajet\"] = victime[\"trajet\"].astype(\"category\")\n",
    "victime[\"place\"] = victime[\"place\"].astype(\"category\")"
   ]
  },
  {
   "cell_type": "markdown",
   "metadata": {},
   "source": [
    "## Création d'une variable correspondant au nombre de véhicules impliqués dans l'accident"
   ]
  },
  {
   "cell_type": "code",
   "execution_count": 23,
   "metadata": {},
   "outputs": [],
   "source": [
    "eff_veh = victime.groupby(\"Num_Acc\")[\"id_vehicule\"].nunique()\n",
    "\n",
    "eff_veh = eff_veh.reset_index()\n",
    "eff_veh.columns = [\"Num_Acc\", \"nb_veh\"]\n",
    "\n",
    "victime = pd.merge(victime,eff_veh, on = \"Num_Acc\")"
   ]
  },
  {
   "cell_type": "code",
   "execution_count": 24,
   "metadata": {},
   "outputs": [],
   "source": [
    "eff_ind = victime.groupby(\"Num_Acc\").size()\n",
    "\n",
    "eff_ind = eff_ind.reset_index()\n",
    "eff_ind.columns = [\"Num_Acc\", \"nb_ind\"]\n",
    "\n",
    "victime = pd.merge(victime,eff_ind, on = \"Num_Acc\")"
   ]
  },
  {
   "cell_type": "markdown",
   "metadata": {},
   "source": [
    "## Création d'une variable `age` à partir de l'année de naissance"
   ]
  },
  {
   "cell_type": "code",
   "execution_count": 25,
   "metadata": {},
   "outputs": [],
   "source": [
    "victime[\"age\"] = 2019 - victime[\"an_nais\"]"
   ]
  },
  {
   "cell_type": "markdown",
   "metadata": {},
   "source": [
    "### Suppression de la variable `an_nais`"
   ]
  },
  {
   "cell_type": "code",
   "execution_count": 26,
   "metadata": {},
   "outputs": [],
   "source": [
    "victime = victime.drop(columns=[\"an_nais\"])"
   ]
  },
  {
   "cell_type": "markdown",
   "metadata": {},
   "source": [
    "## Résumé des données"
   ]
  },
  {
   "cell_type": "markdown",
   "metadata": {},
   "source": [
    "### Les variables disponibles et leur type"
   ]
  },
  {
   "cell_type": "code",
   "execution_count": 27,
   "metadata": {},
   "outputs": [
    {
     "name": "stdout",
     "output_type": "stream",
     "text": [
      "<class 'pandas.core.frame.DataFrame'>\n",
      "Int64Index: 132975 entries, 0 to 132974\n",
      "Data columns (total 19 columns):\n",
      " #   Column       Non-Null Count   Dtype         \n",
      "---  ------       --------------   -----         \n",
      " 0   Num_Acc      132975 non-null  object        \n",
      " 1   id_vehicule  132975 non-null  object        \n",
      " 2   catu         132975 non-null  category      \n",
      " 3   place        132975 non-null  category      \n",
      " 4   grav         132975 non-null  category      \n",
      " 5   sexe         132975 non-null  category      \n",
      " 6   trajet       132975 non-null  category      \n",
      " 7   hrmn         132975 non-null  object        \n",
      " 8   lum          132975 non-null  category      \n",
      " 9   dep          132975 non-null  object        \n",
      " 10  com          132975 non-null  object        \n",
      " 11  agg          132975 non-null  category      \n",
      " 12  int          132975 non-null  category      \n",
      " 13  atm          132975 non-null  category      \n",
      " 14  col          132975 non-null  category      \n",
      " 15  date         132975 non-null  datetime64[ns]\n",
      " 16  nb_veh       132975 non-null  int64         \n",
      " 17  nb_ind       132975 non-null  int64         \n",
      " 18  age          132975 non-null  int64         \n",
      "dtypes: category(10), datetime64[ns](1), int64(3), object(5)\n",
      "memory usage: 11.4+ MB\n"
     ]
    }
   ],
   "source": [
    "victime.info()"
   ]
  },
  {
   "cell_type": "markdown",
   "metadata": {},
   "source": [
    "### Sommaire des variables"
   ]
  },
  {
   "cell_type": "code",
   "execution_count": 28,
   "metadata": {},
   "outputs": [
    {
     "name": "stderr",
     "output_type": "stream",
     "text": [
      "/opt/anaconda3/lib/python3.7/site-packages/ipykernel_launcher.py:1: FutureWarning: Treating datetime data as categorical rather than numeric in `.describe` is deprecated and will be removed in a future version of pandas. Specify `datetime_is_numeric=True` to silence this warning and adopt the future behavior now.\n",
      "  \"\"\"Entry point for launching an IPython kernel.\n"
     ]
    },
    {
     "data": {
      "text/html": [
       "<div>\n",
       "<style scoped>\n",
       "    .dataframe tbody tr th:only-of-type {\n",
       "        vertical-align: middle;\n",
       "    }\n",
       "\n",
       "    .dataframe tbody tr th {\n",
       "        vertical-align: top;\n",
       "    }\n",
       "\n",
       "    .dataframe thead th {\n",
       "        text-align: right;\n",
       "    }\n",
       "</style>\n",
       "<table border=\"1\" class=\"dataframe\">\n",
       "  <thead>\n",
       "    <tr style=\"text-align: right;\">\n",
       "      <th></th>\n",
       "      <th>Num_Acc</th>\n",
       "      <th>id_vehicule</th>\n",
       "      <th>catu</th>\n",
       "      <th>place</th>\n",
       "      <th>grav</th>\n",
       "      <th>sexe</th>\n",
       "      <th>trajet</th>\n",
       "      <th>hrmn</th>\n",
       "      <th>lum</th>\n",
       "      <th>dep</th>\n",
       "      <th>com</th>\n",
       "      <th>agg</th>\n",
       "      <th>int</th>\n",
       "      <th>atm</th>\n",
       "      <th>col</th>\n",
       "      <th>date</th>\n",
       "      <th>nb_veh</th>\n",
       "      <th>nb_ind</th>\n",
       "      <th>age</th>\n",
       "    </tr>\n",
       "  </thead>\n",
       "  <tbody>\n",
       "    <tr>\n",
       "      <th>count</th>\n",
       "      <td>132975</td>\n",
       "      <td>132975</td>\n",
       "      <td>132975.0</td>\n",
       "      <td>132975</td>\n",
       "      <td>132975</td>\n",
       "      <td>132975</td>\n",
       "      <td>132975</td>\n",
       "      <td>132975</td>\n",
       "      <td>132975</td>\n",
       "      <td>132975</td>\n",
       "      <td>132975</td>\n",
       "      <td>132975</td>\n",
       "      <td>132975</td>\n",
       "      <td>132975</td>\n",
       "      <td>132975</td>\n",
       "      <td>132975</td>\n",
       "      <td>132975.000000</td>\n",
       "      <td>132975.000000</td>\n",
       "      <td>132975.000000</td>\n",
       "    </tr>\n",
       "    <tr>\n",
       "      <th>unique</th>\n",
       "      <td>58838</td>\n",
       "      <td>98668</td>\n",
       "      <td>3.0</td>\n",
       "      <td>4</td>\n",
       "      <td>4</td>\n",
       "      <td>2</td>\n",
       "      <td>6</td>\n",
       "      <td>1386</td>\n",
       "      <td>5</td>\n",
       "      <td>107</td>\n",
       "      <td>11443</td>\n",
       "      <td>2</td>\n",
       "      <td>9</td>\n",
       "      <td>9</td>\n",
       "      <td>7</td>\n",
       "      <td>365</td>\n",
       "      <td>NaN</td>\n",
       "      <td>NaN</td>\n",
       "      <td>NaN</td>\n",
       "    </tr>\n",
       "    <tr>\n",
       "      <th>top</th>\n",
       "      <td>201900049689</td>\n",
       "      <td>138 212 691</td>\n",
       "      <td>1.0</td>\n",
       "      <td>Conducteur</td>\n",
       "      <td>Indemne</td>\n",
       "      <td>Masculin</td>\n",
       "      <td>Promenade – loisirs</td>\n",
       "      <td>18:00</td>\n",
       "      <td>Plein jour</td>\n",
       "      <td>75</td>\n",
       "      <td>75116</td>\n",
       "      <td>En agglomération</td>\n",
       "      <td>Hors intersection</td>\n",
       "      <td>Normale</td>\n",
       "      <td>Deux véhicules - par le côté</td>\n",
       "      <td>2019-06-21 00:00:00</td>\n",
       "      <td>NaN</td>\n",
       "      <td>NaN</td>\n",
       "      <td>NaN</td>\n",
       "    </tr>\n",
       "    <tr>\n",
       "      <th>freq</th>\n",
       "      <td>33</td>\n",
       "      <td>33</td>\n",
       "      <td>97355.0</td>\n",
       "      <td>96934</td>\n",
       "      <td>55314</td>\n",
       "      <td>90382</td>\n",
       "      <td>52020</td>\n",
       "      <td>1870</td>\n",
       "      <td>88619</td>\n",
       "      <td>11895</td>\n",
       "      <td>1418</td>\n",
       "      <td>82789</td>\n",
       "      <td>87067</td>\n",
       "      <td>105339</td>\n",
       "      <td>40350</td>\n",
       "      <td>571</td>\n",
       "      <td>NaN</td>\n",
       "      <td>NaN</td>\n",
       "      <td>NaN</td>\n",
       "    </tr>\n",
       "    <tr>\n",
       "      <th>first</th>\n",
       "      <td>NaN</td>\n",
       "      <td>NaN</td>\n",
       "      <td>NaN</td>\n",
       "      <td>NaN</td>\n",
       "      <td>NaN</td>\n",
       "      <td>NaN</td>\n",
       "      <td>NaN</td>\n",
       "      <td>NaN</td>\n",
       "      <td>NaN</td>\n",
       "      <td>NaN</td>\n",
       "      <td>NaN</td>\n",
       "      <td>NaN</td>\n",
       "      <td>NaN</td>\n",
       "      <td>NaN</td>\n",
       "      <td>NaN</td>\n",
       "      <td>2019-01-01 00:00:00</td>\n",
       "      <td>NaN</td>\n",
       "      <td>NaN</td>\n",
       "      <td>NaN</td>\n",
       "    </tr>\n",
       "    <tr>\n",
       "      <th>last</th>\n",
       "      <td>NaN</td>\n",
       "      <td>NaN</td>\n",
       "      <td>NaN</td>\n",
       "      <td>NaN</td>\n",
       "      <td>NaN</td>\n",
       "      <td>NaN</td>\n",
       "      <td>NaN</td>\n",
       "      <td>NaN</td>\n",
       "      <td>NaN</td>\n",
       "      <td>NaN</td>\n",
       "      <td>NaN</td>\n",
       "      <td>NaN</td>\n",
       "      <td>NaN</td>\n",
       "      <td>NaN</td>\n",
       "      <td>NaN</td>\n",
       "      <td>2019-12-31 00:00:00</td>\n",
       "      <td>NaN</td>\n",
       "      <td>NaN</td>\n",
       "      <td>NaN</td>\n",
       "    </tr>\n",
       "    <tr>\n",
       "      <th>mean</th>\n",
       "      <td>NaN</td>\n",
       "      <td>NaN</td>\n",
       "      <td>NaN</td>\n",
       "      <td>NaN</td>\n",
       "      <td>NaN</td>\n",
       "      <td>NaN</td>\n",
       "      <td>NaN</td>\n",
       "      <td>NaN</td>\n",
       "      <td>NaN</td>\n",
       "      <td>NaN</td>\n",
       "      <td>NaN</td>\n",
       "      <td>NaN</td>\n",
       "      <td>NaN</td>\n",
       "      <td>NaN</td>\n",
       "      <td>NaN</td>\n",
       "      <td>NaN</td>\n",
       "      <td>1.882737</td>\n",
       "      <td>2.916646</td>\n",
       "      <td>38.920090</td>\n",
       "    </tr>\n",
       "    <tr>\n",
       "      <th>std</th>\n",
       "      <td>NaN</td>\n",
       "      <td>NaN</td>\n",
       "      <td>NaN</td>\n",
       "      <td>NaN</td>\n",
       "      <td>NaN</td>\n",
       "      <td>NaN</td>\n",
       "      <td>NaN</td>\n",
       "      <td>NaN</td>\n",
       "      <td>NaN</td>\n",
       "      <td>NaN</td>\n",
       "      <td>NaN</td>\n",
       "      <td>NaN</td>\n",
       "      <td>NaN</td>\n",
       "      <td>NaN</td>\n",
       "      <td>NaN</td>\n",
       "      <td>NaN</td>\n",
       "      <td>0.830809</td>\n",
       "      <td>2.030270</td>\n",
       "      <td>19.164135</td>\n",
       "    </tr>\n",
       "    <tr>\n",
       "      <th>min</th>\n",
       "      <td>NaN</td>\n",
       "      <td>NaN</td>\n",
       "      <td>NaN</td>\n",
       "      <td>NaN</td>\n",
       "      <td>NaN</td>\n",
       "      <td>NaN</td>\n",
       "      <td>NaN</td>\n",
       "      <td>NaN</td>\n",
       "      <td>NaN</td>\n",
       "      <td>NaN</td>\n",
       "      <td>NaN</td>\n",
       "      <td>NaN</td>\n",
       "      <td>NaN</td>\n",
       "      <td>NaN</td>\n",
       "      <td>NaN</td>\n",
       "      <td>NaN</td>\n",
       "      <td>1.000000</td>\n",
       "      <td>1.000000</td>\n",
       "      <td>0.000000</td>\n",
       "    </tr>\n",
       "    <tr>\n",
       "      <th>25%</th>\n",
       "      <td>NaN</td>\n",
       "      <td>NaN</td>\n",
       "      <td>NaN</td>\n",
       "      <td>NaN</td>\n",
       "      <td>NaN</td>\n",
       "      <td>NaN</td>\n",
       "      <td>NaN</td>\n",
       "      <td>NaN</td>\n",
       "      <td>NaN</td>\n",
       "      <td>NaN</td>\n",
       "      <td>NaN</td>\n",
       "      <td>NaN</td>\n",
       "      <td>NaN</td>\n",
       "      <td>NaN</td>\n",
       "      <td>NaN</td>\n",
       "      <td>NaN</td>\n",
       "      <td>1.000000</td>\n",
       "      <td>2.000000</td>\n",
       "      <td>24.000000</td>\n",
       "    </tr>\n",
       "    <tr>\n",
       "      <th>50%</th>\n",
       "      <td>NaN</td>\n",
       "      <td>NaN</td>\n",
       "      <td>NaN</td>\n",
       "      <td>NaN</td>\n",
       "      <td>NaN</td>\n",
       "      <td>NaN</td>\n",
       "      <td>NaN</td>\n",
       "      <td>NaN</td>\n",
       "      <td>NaN</td>\n",
       "      <td>NaN</td>\n",
       "      <td>NaN</td>\n",
       "      <td>NaN</td>\n",
       "      <td>NaN</td>\n",
       "      <td>NaN</td>\n",
       "      <td>NaN</td>\n",
       "      <td>NaN</td>\n",
       "      <td>2.000000</td>\n",
       "      <td>2.000000</td>\n",
       "      <td>36.000000</td>\n",
       "    </tr>\n",
       "    <tr>\n",
       "      <th>75%</th>\n",
       "      <td>NaN</td>\n",
       "      <td>NaN</td>\n",
       "      <td>NaN</td>\n",
       "      <td>NaN</td>\n",
       "      <td>NaN</td>\n",
       "      <td>NaN</td>\n",
       "      <td>NaN</td>\n",
       "      <td>NaN</td>\n",
       "      <td>NaN</td>\n",
       "      <td>NaN</td>\n",
       "      <td>NaN</td>\n",
       "      <td>NaN</td>\n",
       "      <td>NaN</td>\n",
       "      <td>NaN</td>\n",
       "      <td>NaN</td>\n",
       "      <td>NaN</td>\n",
       "      <td>2.000000</td>\n",
       "      <td>3.000000</td>\n",
       "      <td>52.000000</td>\n",
       "    </tr>\n",
       "    <tr>\n",
       "      <th>max</th>\n",
       "      <td>NaN</td>\n",
       "      <td>NaN</td>\n",
       "      <td>NaN</td>\n",
       "      <td>NaN</td>\n",
       "      <td>NaN</td>\n",
       "      <td>NaN</td>\n",
       "      <td>NaN</td>\n",
       "      <td>NaN</td>\n",
       "      <td>NaN</td>\n",
       "      <td>NaN</td>\n",
       "      <td>NaN</td>\n",
       "      <td>NaN</td>\n",
       "      <td>NaN</td>\n",
       "      <td>NaN</td>\n",
       "      <td>NaN</td>\n",
       "      <td>NaN</td>\n",
       "      <td>12.000000</td>\n",
       "      <td>33.000000</td>\n",
       "      <td>119.000000</td>\n",
       "    </tr>\n",
       "  </tbody>\n",
       "</table>\n",
       "</div>"
      ],
      "text/plain": [
       "             Num_Acc  id_vehicule      catu       place     grav      sexe  \\\n",
       "count         132975       132975  132975.0      132975   132975    132975   \n",
       "unique         58838        98668       3.0           4        4         2   \n",
       "top     201900049689  138 212 691       1.0  Conducteur  Indemne  Masculin   \n",
       "freq              33           33   97355.0       96934    55314     90382   \n",
       "first            NaN          NaN       NaN         NaN      NaN       NaN   \n",
       "last             NaN          NaN       NaN         NaN      NaN       NaN   \n",
       "mean             NaN          NaN       NaN         NaN      NaN       NaN   \n",
       "std              NaN          NaN       NaN         NaN      NaN       NaN   \n",
       "min              NaN          NaN       NaN         NaN      NaN       NaN   \n",
       "25%              NaN          NaN       NaN         NaN      NaN       NaN   \n",
       "50%              NaN          NaN       NaN         NaN      NaN       NaN   \n",
       "75%              NaN          NaN       NaN         NaN      NaN       NaN   \n",
       "max              NaN          NaN       NaN         NaN      NaN       NaN   \n",
       "\n",
       "                     trajet    hrmn         lum     dep     com  \\\n",
       "count                132975  132975      132975  132975  132975   \n",
       "unique                    6    1386           5     107   11443   \n",
       "top     Promenade – loisirs   18:00  Plein jour      75   75116   \n",
       "freq                  52020    1870       88619   11895    1418   \n",
       "first                   NaN     NaN         NaN     NaN     NaN   \n",
       "last                    NaN     NaN         NaN     NaN     NaN   \n",
       "mean                    NaN     NaN         NaN     NaN     NaN   \n",
       "std                     NaN     NaN         NaN     NaN     NaN   \n",
       "min                     NaN     NaN         NaN     NaN     NaN   \n",
       "25%                     NaN     NaN         NaN     NaN     NaN   \n",
       "50%                     NaN     NaN         NaN     NaN     NaN   \n",
       "75%                     NaN     NaN         NaN     NaN     NaN   \n",
       "max                     NaN     NaN         NaN     NaN     NaN   \n",
       "\n",
       "                     agg                int      atm  \\\n",
       "count             132975             132975   132975   \n",
       "unique                 2                  9        9   \n",
       "top     En agglomération  Hors intersection  Normale   \n",
       "freq               82789              87067   105339   \n",
       "first                NaN                NaN      NaN   \n",
       "last                 NaN                NaN      NaN   \n",
       "mean                 NaN                NaN      NaN   \n",
       "std                  NaN                NaN      NaN   \n",
       "min                  NaN                NaN      NaN   \n",
       "25%                  NaN                NaN      NaN   \n",
       "50%                  NaN                NaN      NaN   \n",
       "75%                  NaN                NaN      NaN   \n",
       "max                  NaN                NaN      NaN   \n",
       "\n",
       "                                 col                 date         nb_veh  \\\n",
       "count                         132975               132975  132975.000000   \n",
       "unique                             7                  365            NaN   \n",
       "top     Deux véhicules - par le côté  2019-06-21 00:00:00            NaN   \n",
       "freq                           40350                  571            NaN   \n",
       "first                            NaN  2019-01-01 00:00:00            NaN   \n",
       "last                             NaN  2019-12-31 00:00:00            NaN   \n",
       "mean                             NaN                  NaN       1.882737   \n",
       "std                              NaN                  NaN       0.830809   \n",
       "min                              NaN                  NaN       1.000000   \n",
       "25%                              NaN                  NaN       1.000000   \n",
       "50%                              NaN                  NaN       2.000000   \n",
       "75%                              NaN                  NaN       2.000000   \n",
       "max                              NaN                  NaN      12.000000   \n",
       "\n",
       "               nb_ind            age  \n",
       "count   132975.000000  132975.000000  \n",
       "unique            NaN            NaN  \n",
       "top               NaN            NaN  \n",
       "freq              NaN            NaN  \n",
       "first             NaN            NaN  \n",
       "last              NaN            NaN  \n",
       "mean         2.916646      38.920090  \n",
       "std          2.030270      19.164135  \n",
       "min          1.000000       0.000000  \n",
       "25%          2.000000      24.000000  \n",
       "50%          2.000000      36.000000  \n",
       "75%          3.000000      52.000000  \n",
       "max         33.000000     119.000000  "
      ]
     },
     "execution_count": 28,
     "metadata": {},
     "output_type": "execute_result"
    }
   ],
   "source": [
    "victime.describe(include=\"all\")"
   ]
  },
  {
   "cell_type": "markdown",
   "metadata": {},
   "source": [
    "## Valeurs manquantes et aberrantes"
   ]
  },
  {
   "cell_type": "markdown",
   "metadata": {},
   "source": [
    "### Valeurs manquantes"
   ]
  },
  {
   "cell_type": "code",
   "execution_count": 29,
   "metadata": {},
   "outputs": [
    {
     "data": {
      "text/plain": [
       "Num_Acc        0\n",
       "id_vehicule    0\n",
       "catu           0\n",
       "place          0\n",
       "grav           0\n",
       "sexe           0\n",
       "trajet         0\n",
       "hrmn           0\n",
       "lum            0\n",
       "dep            0\n",
       "com            0\n",
       "agg            0\n",
       "int            0\n",
       "atm            0\n",
       "col            0\n",
       "date           0\n",
       "nb_veh         0\n",
       "nb_ind         0\n",
       "age            0\n",
       "dtype: int64"
      ]
     },
     "execution_count": 29,
     "metadata": {},
     "output_type": "execute_result"
    }
   ],
   "source": [
    "victime.isna().sum()"
   ]
  },
  {
   "cell_type": "markdown",
   "metadata": {},
   "source": [
    "Il n'y a donc aucune valeur manquante.\n",
    "\n",
    "### Valeur aberrantes"
   ]
  },
  {
   "cell_type": "code",
   "execution_count": 30,
   "metadata": {},
   "outputs": [
    {
     "data": {
      "text/plain": [
       "age  catu\n",
       "0    1         2\n",
       "     2       194\n",
       "     3        14\n",
       "1    1         0\n",
       "     2       296\n",
       "            ... \n",
       "118  2        12\n",
       "     3         3\n",
       "119  1       115\n",
       "     2        12\n",
       "     3         6\n",
       "Length: 312, dtype: int64"
      ]
     },
     "execution_count": 30,
     "metadata": {},
     "output_type": "execute_result"
    }
   ],
   "source": [
    "victime.groupby([\"age\",'catu']).size()"
   ]
  },
  {
   "cell_type": "markdown",
   "metadata": {},
   "source": [
    "Nous remarquons énormément d'individus de plus de 100 (avec un âge allant jusque 119 ans). Nous les supprimons donc. \n",
    "De plus, nous supprimons également les individus indiqués comme conducteurs `catu = 1` étant agés de moins de 16 ans. "
   ]
  },
  {
   "cell_type": "markdown",
   "metadata": {},
   "source": [
    "#### Nombre de personnes de plus de 100 ans"
   ]
  },
  {
   "cell_type": "code",
   "execution_count": 31,
   "metadata": {
    "scrolled": true
   },
   "outputs": [
    {
     "data": {
      "text/plain": [
       "177"
      ]
     },
     "execution_count": 31,
     "metadata": {},
     "output_type": "execute_result"
    }
   ],
   "source": [
    "victime.loc[victime[\"age\"]>100,:].shape[0]"
   ]
  },
  {
   "cell_type": "markdown",
   "metadata": {},
   "source": [
    "#### Nombre de conducteurs de moins de 16 ans"
   ]
  },
  {
   "cell_type": "code",
   "execution_count": 32,
   "metadata": {
    "scrolled": true
   },
   "outputs": [
    {
     "data": {
      "text/plain": [
       "1071"
      ]
     },
     "execution_count": 32,
     "metadata": {},
     "output_type": "execute_result"
    }
   ],
   "source": [
    "victime.loc[(victime[\"catu\"]== 1) & (victime[\"age\"] < 16),:].shape[0]"
   ]
  },
  {
   "cell_type": "markdown",
   "metadata": {},
   "source": [
    "#### Suppression des usagers de plus de 100 ans et des conducteurs de moins de 16 ans"
   ]
  },
  {
   "cell_type": "code",
   "execution_count": 33,
   "metadata": {},
   "outputs": [],
   "source": [
    "victime = victime.loc[~((victime[\"catu\"]== 1) & (victime[\"age\"] < 16) | (victime[\"age\"] > 100)),:]"
   ]
  },
  {
   "cell_type": "code",
   "execution_count": 34,
   "metadata": {},
   "outputs": [
    {
     "name": "stdout",
     "output_type": "stream",
     "text": [
      "<class 'pandas.core.frame.DataFrame'>\n",
      "Int64Index: 131727 entries, 0 to 132974\n",
      "Data columns (total 19 columns):\n",
      " #   Column       Non-Null Count   Dtype         \n",
      "---  ------       --------------   -----         \n",
      " 0   Num_Acc      131727 non-null  object        \n",
      " 1   id_vehicule  131727 non-null  object        \n",
      " 2   catu         131727 non-null  category      \n",
      " 3   place        131727 non-null  category      \n",
      " 4   grav         131727 non-null  category      \n",
      " 5   sexe         131727 non-null  category      \n",
      " 6   trajet       131727 non-null  category      \n",
      " 7   hrmn         131727 non-null  object        \n",
      " 8   lum          131727 non-null  category      \n",
      " 9   dep          131727 non-null  object        \n",
      " 10  com          131727 non-null  object        \n",
      " 11  agg          131727 non-null  category      \n",
      " 12  int          131727 non-null  category      \n",
      " 13  atm          131727 non-null  category      \n",
      " 14  col          131727 non-null  category      \n",
      " 15  date         131727 non-null  datetime64[ns]\n",
      " 16  nb_veh       131727 non-null  int64         \n",
      " 17  nb_ind       131727 non-null  int64         \n",
      " 18  age          131727 non-null  int64         \n",
      "dtypes: category(10), datetime64[ns](1), int64(3), object(5)\n",
      "memory usage: 11.3+ MB\n"
     ]
    }
   ],
   "source": [
    "victime.info()"
   ]
  },
  {
   "cell_type": "code",
   "execution_count": 35,
   "metadata": {},
   "outputs": [
    {
     "data": {
      "text/plain": [
       "age  catu\n",
       "0    1         0\n",
       "     2       194\n",
       "     3        14\n",
       "1    1         0\n",
       "     2       296\n",
       "            ... \n",
       "99   2         0\n",
       "     3         4\n",
       "100  1         1\n",
       "     2         2\n",
       "     3         0\n",
       "Length: 303, dtype: int64"
      ]
     },
     "execution_count": 35,
     "metadata": {},
     "output_type": "execute_result"
    }
   ],
   "source": [
    "victime.groupby([\"age\",'catu']).size()"
   ]
  },
  {
   "cell_type": "markdown",
   "metadata": {},
   "source": [
    "## Calendrier avec gradient de couleurs pour la représentation du nombre d'accidents par jour"
   ]
  },
  {
   "cell_type": "code",
   "execution_count": 36,
   "metadata": {},
   "outputs": [
    {
     "data": {
      "text/html": [
       "<div>\n",
       "<style scoped>\n",
       "    .dataframe tbody tr th:only-of-type {\n",
       "        vertical-align: middle;\n",
       "    }\n",
       "\n",
       "    .dataframe tbody tr th {\n",
       "        vertical-align: top;\n",
       "    }\n",
       "\n",
       "    .dataframe thead th {\n",
       "        text-align: right;\n",
       "    }\n",
       "</style>\n",
       "<table border=\"1\" class=\"dataframe\">\n",
       "  <thead>\n",
       "    <tr style=\"text-align: right;\">\n",
       "      <th></th>\n",
       "      <th>date</th>\n",
       "      <th>nb_acc</th>\n",
       "    </tr>\n",
       "  </thead>\n",
       "  <tbody>\n",
       "    <tr>\n",
       "      <th>0</th>\n",
       "      <td>2019-01-01</td>\n",
       "      <td>105</td>\n",
       "    </tr>\n",
       "    <tr>\n",
       "      <th>1</th>\n",
       "      <td>2019-01-02</td>\n",
       "      <td>106</td>\n",
       "    </tr>\n",
       "    <tr>\n",
       "      <th>2</th>\n",
       "      <td>2019-01-03</td>\n",
       "      <td>109</td>\n",
       "    </tr>\n",
       "    <tr>\n",
       "      <th>3</th>\n",
       "      <td>2019-01-04</td>\n",
       "      <td>133</td>\n",
       "    </tr>\n",
       "    <tr>\n",
       "      <th>4</th>\n",
       "      <td>2019-01-05</td>\n",
       "      <td>103</td>\n",
       "    </tr>\n",
       "    <tr>\n",
       "      <th>5</th>\n",
       "      <td>2019-01-06</td>\n",
       "      <td>81</td>\n",
       "    </tr>\n",
       "    <tr>\n",
       "      <th>6</th>\n",
       "      <td>2019-01-07</td>\n",
       "      <td>136</td>\n",
       "    </tr>\n",
       "    <tr>\n",
       "      <th>7</th>\n",
       "      <td>2019-01-08</td>\n",
       "      <td>152</td>\n",
       "    </tr>\n",
       "    <tr>\n",
       "      <th>8</th>\n",
       "      <td>2019-01-09</td>\n",
       "      <td>154</td>\n",
       "    </tr>\n",
       "    <tr>\n",
       "      <th>9</th>\n",
       "      <td>2019-01-10</td>\n",
       "      <td>142</td>\n",
       "    </tr>\n",
       "    <tr>\n",
       "      <th>10</th>\n",
       "      <td>2019-01-11</td>\n",
       "      <td>187</td>\n",
       "    </tr>\n",
       "    <tr>\n",
       "      <th>11</th>\n",
       "      <td>2019-01-12</td>\n",
       "      <td>126</td>\n",
       "    </tr>\n",
       "    <tr>\n",
       "      <th>12</th>\n",
       "      <td>2019-01-13</td>\n",
       "      <td>121</td>\n",
       "    </tr>\n",
       "    <tr>\n",
       "      <th>13</th>\n",
       "      <td>2019-01-14</td>\n",
       "      <td>142</td>\n",
       "    </tr>\n",
       "    <tr>\n",
       "      <th>14</th>\n",
       "      <td>2019-01-15</td>\n",
       "      <td>161</td>\n",
       "    </tr>\n",
       "    <tr>\n",
       "      <th>15</th>\n",
       "      <td>2019-01-16</td>\n",
       "      <td>154</td>\n",
       "    </tr>\n",
       "    <tr>\n",
       "      <th>16</th>\n",
       "      <td>2019-01-17</td>\n",
       "      <td>168</td>\n",
       "    </tr>\n",
       "    <tr>\n",
       "      <th>17</th>\n",
       "      <td>2019-01-18</td>\n",
       "      <td>220</td>\n",
       "    </tr>\n",
       "    <tr>\n",
       "      <th>18</th>\n",
       "      <td>2019-01-19</td>\n",
       "      <td>138</td>\n",
       "    </tr>\n",
       "    <tr>\n",
       "      <th>19</th>\n",
       "      <td>2019-01-20</td>\n",
       "      <td>90</td>\n",
       "    </tr>\n",
       "  </tbody>\n",
       "</table>\n",
       "</div>"
      ],
      "text/plain": [
       "         date  nb_acc\n",
       "0  2019-01-01     105\n",
       "1  2019-01-02     106\n",
       "2  2019-01-03     109\n",
       "3  2019-01-04     133\n",
       "4  2019-01-05     103\n",
       "5  2019-01-06      81\n",
       "6  2019-01-07     136\n",
       "7  2019-01-08     152\n",
       "8  2019-01-09     154\n",
       "9  2019-01-10     142\n",
       "10 2019-01-11     187\n",
       "11 2019-01-12     126\n",
       "12 2019-01-13     121\n",
       "13 2019-01-14     142\n",
       "14 2019-01-15     161\n",
       "15 2019-01-16     154\n",
       "16 2019-01-17     168\n",
       "17 2019-01-18     220\n",
       "18 2019-01-19     138\n",
       "19 2019-01-20      90"
      ]
     },
     "execution_count": 36,
     "metadata": {},
     "output_type": "execute_result"
    }
   ],
   "source": [
    "calend = victime.groupby(\"date\")[\"Num_Acc\"].agg('nunique')\n",
    "\n",
    "calend = calend.reset_index()\n",
    "calend.columns = [\"date\", \"nb_acc\"]\n",
    "\n",
    "calend.head(20)"
   ]
  },
  {
   "cell_type": "code",
   "execution_count": 37,
   "metadata": {},
   "outputs": [
    {
     "name": "stdout",
     "output_type": "stream",
     "text": [
      "<class 'pandas.core.frame.DataFrame'>\n",
      "RangeIndex: 365 entries, 0 to 364\n",
      "Data columns (total 7 columns):\n",
      " #   Column    Non-Null Count  Dtype         \n",
      "---  ------    --------------  -----         \n",
      " 0   date      365 non-null    datetime64[ns]\n",
      " 1   nb_acc    365 non-null    int64         \n",
      " 2   nom_jour  365 non-null    object        \n",
      " 3   num_jour  365 non-null    int64         \n",
      " 4   nom_mois  365 non-null    object        \n",
      " 5   num_mois  365 non-null    int64         \n",
      " 6   num_sem   365 non-null    object        \n",
      "dtypes: datetime64[ns](1), int64(3), object(3)\n",
      "memory usage: 20.1+ KB\n"
     ]
    }
   ],
   "source": [
    "nom_jour = []\n",
    "num_jour = []\n",
    "nom_mois = []\n",
    "num_mois = []\n",
    "num_sem = []\n",
    "for i in range(len(calend)):\n",
    "    nom_jour.append(calend[\"date\"][i].strftime(\"%A\")) # Nom du jour\n",
    "    num_jour.append(calend[\"date\"][i].weekday()) # Numéro du jour\n",
    "    nom_mois.append(calend[\"date\"][i].strftime(\"%B\")) # Nom du mois\n",
    "    num_mois.append(calend[\"date\"][i].month) # Numéro du mois\n",
    "    num_sem.append(calend[\"date\"][i].strftime(\"%V\")) # Numéro de la semaine\n",
    "    \n",
    "calend[\"nom_jour\"] = nom_jour\n",
    "calend[\"num_jour\"] = num_jour\n",
    "calend[\"nom_mois\"] = nom_mois\n",
    "calend[\"num_mois\"] = num_mois\n",
    "calend[\"num_sem\"] = num_sem\n",
    "\n",
    "calend.info()"
   ]
  },
  {
   "cell_type": "markdown",
   "metadata": {},
   "source": [
    "### Tracé du calendrier\n",
    "\n",
    "Cette étape n'a pas été réalisée en python mais uniquement en R."
   ]
  },
  {
   "cell_type": "markdown",
   "metadata": {},
   "source": [
    "# Quelques statistiques univariées\n",
    "\n",
    "## Nombre d'accidents par jour de la semaine"
   ]
  },
  {
   "cell_type": "code",
   "execution_count": 38,
   "metadata": {
    "scrolled": true
   },
   "outputs": [],
   "source": [
    "tot_jour = calend.groupby(\"nom_jour\")[\"nb_acc\"].sum()\n",
    "\n",
    "tot_jour = tot_jour.reset_index()\n",
    "tot_jour.columns = [\"nom_jour\", \"nb_acc\"]"
   ]
  },
  {
   "cell_type": "code",
   "execution_count": 39,
   "metadata": {},
   "outputs": [
    {
     "data": {
      "image/png": "[encoded data removed]",
      "text/plain": [
       "<Figure size 1080x576 with 1 Axes>"
      ]
     },
     "metadata": {
      "needs_background": "light"
     },
     "output_type": "display_data"
    }
   ],
   "source": [
    "fig = plt.figure(1, figsize=(15,8))\n",
    "\n",
    "ax = sns.barplot(x='nom_jour', y='nb_acc', data=tot_jour, ci=None, color= \"darkslateblue\")\n",
    "ax.set_title(\"Nombre d'accidents total par jour\")\n",
    "ax.set_xlabel('Jour')\n",
    "ax.set_ylabel('Effectif')\n",
    "\n",
    "rects = ax.patches\n",
    "\n",
    "# Make some labels.\n",
    "labels = tot_jour[\"nb_acc\"]\n",
    "\n",
    "for rect, label in zip(rects, labels):\n",
    "    height = rect.get_height()\n",
    "    ax.text(rect.get_x() + rect.get_width() / 2, height + 5, label,\n",
    "            ha='center', va='bottom')\n",
    "\n",
    "plt.show()"
   ]
  },
  {
   "cell_type": "code",
   "execution_count": 40,
   "metadata": {},
   "outputs": [],
   "source": [
    "tot_jour = tot_jour.sort_values(by=\"nb_acc\")"
   ]
  },
  {
   "cell_type": "code",
   "execution_count": 41,
   "metadata": {},
   "outputs": [
    {
     "data": {
      "image/png": "[encoded data removed]",
      "text/plain": [
       "<Figure size 1080x576 with 1 Axes>"
      ]
     },
     "metadata": {
      "needs_background": "light"
     },
     "output_type": "display_data"
    }
   ],
   "source": [
    "fig = plt.figure(2, figsize=(15,8))\n",
    "\n",
    "ax = sns.barplot(x='nom_jour', y='nb_acc', data=tot_jour, ci=None, color=\"darkslateblue\")\n",
    "ax.set_title(\"Nombre d'accidents total par jour\")\n",
    "ax.set_xlabel('Jour')\n",
    "ax.set_ylabel('Effectif')\n",
    "\n",
    "rects = ax.patches\n",
    "\n",
    "# Make some labels.\n",
    "labels = tot_jour[\"nb_acc\"]\n",
    "\n",
    "for rect, label in zip(rects, labels):\n",
    "    height = rect.get_height()\n",
    "    ax.text(rect.get_x() + rect.get_width() / 2, height + 5, label,\n",
    "            ha='center', va='bottom')\n",
    "\n",
    "plt.show()"
   ]
  },
  {
   "cell_type": "markdown",
   "metadata": {},
   "source": [
    "## Nombre d'accidents par mois"
   ]
  },
  {
   "cell_type": "code",
   "execution_count": 42,
   "metadata": {},
   "outputs": [],
   "source": [
    "tot_mois = calend.groupby(\"nom_mois\")[\"nb_acc\"].sum()\n",
    "\n",
    "tot_mois = tot_mois.reset_index()\n",
    "tot_mois.columns = [\"nom_mois\", \"nb_acc\"]"
   ]
  },
  {
   "cell_type": "code",
   "execution_count": 43,
   "metadata": {},
   "outputs": [
    {
     "data": {
      "image/png": "[encoded data removed]",
      "text/plain": [
       "<Figure size 1080x576 with 1 Axes>"
      ]
     },
     "metadata": {
      "needs_background": "light"
     },
     "output_type": "display_data"
    }
   ],
   "source": [
    "fig = plt.figure(3, figsize=(15, 8))\n",
    "\n",
    "\n",
    "ax = sns.barplot(x='nom_mois', y='nb_acc', data=tot_mois, ci=None, color = \"darkslateblue\")\n",
    "\n",
    "ax.set_title(\"Nombre d'accidents total par mois\")\n",
    "ax.set_xlabel('Mois')\n",
    "ax.set_ylabel('Effectif')\n",
    "\n",
    "rects = ax.patches\n",
    "\n",
    "# Make some labels.\n",
    "labels = tot_mois[\"nb_acc\"]\n",
    "\n",
    "for rect, label in zip(rects, labels):\n",
    "    height = rect.get_height()\n",
    "    ax.text(rect.get_x() + rect.get_width() / 2, height + 5, label,\n",
    "            ha='center', va='bottom')\n",
    "\n",
    "\n",
    "plt.show()"
   ]
  },
  {
   "cell_type": "code",
   "execution_count": 44,
   "metadata": {},
   "outputs": [],
   "source": [
    "tot_mois = tot_mois.sort_values(by=\"nb_acc\")"
   ]
  },
  {
   "cell_type": "code",
   "execution_count": 45,
   "metadata": {},
   "outputs": [
    {
     "data": {
      "image/png": "[encoded data removed]",
      "text/plain": [
       "<Figure size 1080x576 with 1 Axes>"
      ]
     },
     "metadata": {
      "needs_background": "light"
     },
     "output_type": "display_data"
    }
   ],
   "source": [
    "fig = plt.figure(4, figsize=(15, 8))\n",
    "\n",
    "\n",
    "ax = sns.barplot(x='nom_mois', y='nb_acc', data=tot_mois, ci=None, color = \"darkslateblue\")\n",
    "\n",
    "ax.set_title(\"Nombre d'accidents total par mois\")\n",
    "ax.set_xlabel('Mois')\n",
    "ax.set_ylabel('Effectif')\n",
    "\n",
    "rects = ax.patches\n",
    "\n",
    "# Make some labels.\n",
    "labels = tot_mois[\"nb_acc\"]\n",
    "\n",
    "for rect, label in zip(rects, labels):\n",
    "    height = rect.get_height()\n",
    "    ax.text(rect.get_x() + rect.get_width() / 2, height + 5, label,\n",
    "            ha='center', va='bottom')\n",
    "\n",
    "\n",
    "plt.show()"
   ]
  },
  {
   "cell_type": "markdown",
   "metadata": {},
   "source": [
    "# Quelques statistiques bivariées - Croisement de la gravité avec d'autres variables\n",
    "## Gravité X Place de l'usager"
   ]
  },
  {
   "cell_type": "code",
   "execution_count": 46,
   "metadata": {},
   "outputs": [
    {
     "data": {
      "text/plain": [
       "grav\n",
       "Blessé hospitalisé    20512\n",
       "Blessé léger          52628\n",
       "Indemne               55107\n",
       "Tué                    3480\n",
       "dtype: int64"
      ]
     },
     "execution_count": 46,
     "metadata": {},
     "output_type": "execute_result"
    }
   ],
   "source": [
    "tab_grav = victime.groupby(\"grav\").size()\n",
    "tab_grav"
   ]
  },
  {
   "cell_type": "code",
   "execution_count": 47,
   "metadata": {},
   "outputs": [
    {
     "data": {
      "text/plain": [
       "place\n",
       "Conducteur        95735\n",
       "Passager           9099\n",
       "Passager Avant    15638\n",
       "Piéton            11255\n",
       "dtype: int64"
      ]
     },
     "execution_count": 47,
     "metadata": {},
     "output_type": "execute_result"
    }
   ],
   "source": [
    "tab_place = victime.groupby(\"place\").size()\n",
    "tab_place"
   ]
  },
  {
   "cell_type": "code",
   "execution_count": 48,
   "metadata": {},
   "outputs": [
    {
     "data": {
      "image/png": "[encoded data removed]",
      "text/plain": [
       "<Figure size 1080x576 with 1 Axes>"
      ]
     },
     "metadata": {
      "needs_background": "light"
     },
     "output_type": "display_data"
    }
   ],
   "source": [
    "fig = plt.figure(5, figsize=(15, 8))\n",
    "\n",
    "ct = pd.crosstab(victime['place'],victime['grav']) \n",
    "\n",
    "# now stack and reset\n",
    "stacked = ct.stack().reset_index().rename(columns={0:'value'})\n",
    "\n",
    "# plot grouped bar chart\n",
    "ax = sns.barplot(x=stacked.place, y=stacked.value, hue=stacked.grav, palette=\"PuBu\")\n",
    "ax.set_title(\"Effectif des usagers, regroupement par place\")\n",
    "ax.set_xlabel(\"Place de l'usager\")\n",
    "ax.set_ylabel('Effectif')\n",
    "\n",
    "plt.legend(title = \"Gravité\")\n",
    "plt.show()"
   ]
  },
  {
   "cell_type": "code",
   "execution_count": 49,
   "metadata": {},
   "outputs": [
    {
     "data": {
      "image/png": "[encoded data removed]",
      "text/plain": [
       "<Figure size 1080x576 with 1 Axes>"
      ]
     },
     "metadata": {
      "needs_background": "light"
     },
     "output_type": "display_data"
    }
   ],
   "source": [
    "fig = plt.figure(6, figsize=(15, 8))\n",
    "\n",
    "# plot grouped bar chart\n",
    "ax = sns.barplot(x=stacked.grav, y=stacked.value, hue=stacked.place, palette=\"PuBu\")\n",
    "ax.set_title(\"Effectif des usagers, regroupement par gravité\")\n",
    "ax.set_xlabel(\"Gravité\")\n",
    "ax.set_ylabel('Effectif')\n",
    "\n",
    "plt.legend(title = \"Place de l'usager\")\n",
    "plt.show()"
   ]
  },
  {
   "cell_type": "markdown",
   "metadata": {},
   "source": [
    "### Profils lignes"
   ]
  },
  {
   "cell_type": "code",
   "execution_count": 50,
   "metadata": {},
   "outputs": [
    {
     "data": {
      "text/html": [
       "<div>\n",
       "<style scoped>\n",
       "    .dataframe tbody tr th:only-of-type {\n",
       "        vertical-align: middle;\n",
       "    }\n",
       "\n",
       "    .dataframe tbody tr th {\n",
       "        vertical-align: top;\n",
       "    }\n",
       "\n",
       "    .dataframe thead th {\n",
       "        text-align: right;\n",
       "    }\n",
       "</style>\n",
       "<table border=\"1\" class=\"dataframe\">\n",
       "  <thead>\n",
       "    <tr style=\"text-align: right;\">\n",
       "      <th>grav</th>\n",
       "      <th>Blessé hospitalisé</th>\n",
       "      <th>Blessé léger</th>\n",
       "      <th>Indemne</th>\n",
       "      <th>Tué</th>\n",
       "      <th>Total</th>\n",
       "    </tr>\n",
       "    <tr>\n",
       "      <th>place</th>\n",
       "      <th></th>\n",
       "      <th></th>\n",
       "      <th></th>\n",
       "      <th></th>\n",
       "      <th></th>\n",
       "    </tr>\n",
       "  </thead>\n",
       "  <tbody>\n",
       "    <tr>\n",
       "      <th>Conducteur</th>\n",
       "      <td>14.0</td>\n",
       "      <td>35.0</td>\n",
       "      <td>48.0</td>\n",
       "      <td>3.0</td>\n",
       "      <td>100</td>\n",
       "    </tr>\n",
       "    <tr>\n",
       "      <th>Passager</th>\n",
       "      <td>13.0</td>\n",
       "      <td>46.0</td>\n",
       "      <td>39.0</td>\n",
       "      <td>2.0</td>\n",
       "      <td>100</td>\n",
       "    </tr>\n",
       "    <tr>\n",
       "      <th>Passager Avant</th>\n",
       "      <td>15.0</td>\n",
       "      <td>49.0</td>\n",
       "      <td>34.0</td>\n",
       "      <td>2.0</td>\n",
       "      <td>100</td>\n",
       "    </tr>\n",
       "    <tr>\n",
       "      <th>Piéton</th>\n",
       "      <td>29.0</td>\n",
       "      <td>64.0</td>\n",
       "      <td>3.0</td>\n",
       "      <td>5.0</td>\n",
       "      <td>100</td>\n",
       "    </tr>\n",
       "  </tbody>\n",
       "</table>\n",
       "</div>"
      ],
      "text/plain": [
       "grav            Blessé hospitalisé  Blessé léger  Indemne  Tué  Total\n",
       "place                                                                \n",
       "Conducteur                    14.0          35.0     48.0  3.0    100\n",
       "Passager                      13.0          46.0     39.0  2.0    100\n",
       "Passager Avant                15.0          49.0     34.0  2.0    100\n",
       "Piéton                        29.0          64.0      3.0  5.0    100"
      ]
     },
     "execution_count": 50,
     "metadata": {},
     "output_type": "execute_result"
    }
   ],
   "source": [
    "ct['Total'] = ct.sum(axis=1)\n",
    "\n",
    "profil_ligne_grav_place = ct.copy()\n",
    "\n",
    "for i in place :\n",
    "    tot = profil_ligne_grav_place.loc[i]['Total']\n",
    "    profil_ligne_grav_place.loc[i] = profil_ligne_grav_place.loc[i].div(tot)*100\n",
    "\n",
    "    \n",
    "profil_ligne_grav_place = profil_ligne_grav_place.round(0)\n",
    "profil_ligne_grav_place\n"
   ]
  },
  {
   "cell_type": "code",
   "execution_count": 51,
   "metadata": {
    "scrolled": false
   },
   "outputs": [
    {
     "data": {
      "image/png": "[encoded data removed]",
      "text/plain": [
       "<Figure size 1080x576 with 1 Axes>"
      ]
     },
     "metadata": {
      "needs_background": "light"
     },
     "output_type": "display_data"
    }
   ],
   "source": [
    "# now stack and reset\n",
    "stacked = profil_ligne_grav_place.drop(columns='Total').stack().reset_index().rename(columns={0:'value'})\n",
    "\n",
    "fig = plt.figure(7, figsize=(15, 8))\n",
    "\n",
    "\n",
    "# plot grouped bar chart\n",
    "ax = sns.barplot(x=stacked.place, y=stacked.value, hue=stacked.grav, palette=\"PuBu\")\n",
    "ax.set_title(\"Graphique à bâtons sur les profils lignes, regroupement par place\")\n",
    "ax.set_xlabel(\"Place de l'usager\")\n",
    "ax.set_ylabel('Pourcentage')\n",
    "\n",
    "plt.legend(title = \"Gravité\")\n",
    "\n",
    "for p in ax.patches: \n",
    "    ax.annotate(format(p.get_height()) + \"%\", \n",
    "                   (p.get_x() + p.get_width() / 2., p.get_height()), \n",
    "                   ha='center', va='center', \n",
    "                   xytext=(0, 9), \n",
    "                   textcoords='offset points')\n",
    "    \n",
    "plt.show()"
   ]
  },
  {
   "cell_type": "markdown",
   "metadata": {},
   "source": [
    "### Profils colonnes"
   ]
  },
  {
   "cell_type": "code",
   "execution_count": 52,
   "metadata": {},
   "outputs": [
    {
     "data": {
      "text/html": [
       "<div>\n",
       "<style scoped>\n",
       "    .dataframe tbody tr th:only-of-type {\n",
       "        vertical-align: middle;\n",
       "    }\n",
       "\n",
       "    .dataframe tbody tr th {\n",
       "        vertical-align: top;\n",
       "    }\n",
       "\n",
       "    .dataframe thead th {\n",
       "        text-align: right;\n",
       "    }\n",
       "</style>\n",
       "<table border=\"1\" class=\"dataframe\">\n",
       "  <thead>\n",
       "    <tr style=\"text-align: right;\">\n",
       "      <th>place</th>\n",
       "      <th>Conducteur</th>\n",
       "      <th>Passager</th>\n",
       "      <th>Passager Avant</th>\n",
       "      <th>Piéton</th>\n",
       "      <th>Total</th>\n",
       "    </tr>\n",
       "    <tr>\n",
       "      <th>grav</th>\n",
       "      <th></th>\n",
       "      <th></th>\n",
       "      <th></th>\n",
       "      <th></th>\n",
       "      <th></th>\n",
       "    </tr>\n",
       "  </thead>\n",
       "  <tbody>\n",
       "    <tr>\n",
       "      <th>Blessé hospitalisé</th>\n",
       "      <td>67.0</td>\n",
       "      <td>6.0</td>\n",
       "      <td>12.0</td>\n",
       "      <td>16.0</td>\n",
       "      <td>100</td>\n",
       "    </tr>\n",
       "    <tr>\n",
       "      <th>Blessé léger</th>\n",
       "      <td>64.0</td>\n",
       "      <td>8.0</td>\n",
       "      <td>15.0</td>\n",
       "      <td>14.0</td>\n",
       "      <td>100</td>\n",
       "    </tr>\n",
       "    <tr>\n",
       "      <th>Indemne</th>\n",
       "      <td>83.0</td>\n",
       "      <td>7.0</td>\n",
       "      <td>10.0</td>\n",
       "      <td>1.0</td>\n",
       "      <td>100</td>\n",
       "    </tr>\n",
       "    <tr>\n",
       "      <th>Tué</th>\n",
       "      <td>70.0</td>\n",
       "      <td>5.0</td>\n",
       "      <td>10.0</td>\n",
       "      <td>15.0</td>\n",
       "      <td>100</td>\n",
       "    </tr>\n",
       "  </tbody>\n",
       "</table>\n",
       "</div>"
      ],
      "text/plain": [
       "place               Conducteur  Passager  Passager Avant  Piéton  Total\n",
       "grav                                                                   \n",
       "Blessé hospitalisé        67.0       6.0            12.0    16.0    100\n",
       "Blessé léger              64.0       8.0            15.0    14.0    100\n",
       "Indemne                   83.0       7.0            10.0     1.0    100\n",
       "Tué                       70.0       5.0            10.0    15.0    100"
      ]
     },
     "execution_count": 52,
     "metadata": {},
     "output_type": "execute_result"
    }
   ],
   "source": [
    "ct = ct.drop(columns = 'Total').T\n",
    "ct['Total'] = ct.sum(axis=1)\n",
    "\n",
    "profil_colonne_grav_place = ct.copy()\n",
    "\n",
    "for i in grav :\n",
    "    tot = profil_colonne_grav_place.loc[i]['Total']\n",
    "    profil_colonne_grav_place.loc[i] = profil_colonne_grav_place.loc[i].div(tot)*100\n",
    "\n",
    "\n",
    "\n",
    "profil_colonne_grav_place = profil_colonne_grav_place.round(0)\n",
    "profil_colonne_grav_place"
   ]
  },
  {
   "cell_type": "code",
   "execution_count": 53,
   "metadata": {},
   "outputs": [
    {
     "data": {
      "image/png": "[encoded data removed]",
      "text/plain": [
       "<Figure size 1080x576 with 1 Axes>"
      ]
     },
     "metadata": {
      "needs_background": "light"
     },
     "output_type": "display_data"
    }
   ],
   "source": [
    "# now stack and reset\n",
    "stacked = profil_colonne_grav_place.drop(columns='Total').stack().reset_index().rename(columns={0:'value'})\n",
    "\n",
    "fig = plt.figure(7, figsize=(15, 8))\n",
    "\n",
    "\n",
    "# plot grouped bar chart\n",
    "ax = sns.barplot(x=stacked.grav, y=stacked.value, hue=stacked.place, palette=\"PuBu\")\n",
    "ax.set_title(\"Graphique à bâtons sur les profils colonnes, regroupement par gravité\")\n",
    "ax.set_xlabel(\"Gravité\")\n",
    "ax.set_ylabel('Pourcentage')\n",
    "\n",
    "plt.legend(title = \"Place de l'usager\")\n",
    "\n",
    "for p in ax.patches: \n",
    "    ax.annotate(format(p.get_height()) + \"%\", \n",
    "                   (p.get_x() + p.get_width() / 2., p.get_height()), \n",
    "                   ha='center', va='center', \n",
    "                   xytext=(0, 9), \n",
    "                   textcoords='offset points')\n",
    "    \n",
    "plt.show()"
   ]
  },
  {
   "cell_type": "markdown",
   "metadata": {},
   "source": [
    "## Gravité X Trajet"
   ]
  },
  {
   "cell_type": "code",
   "execution_count": 54,
   "metadata": {},
   "outputs": [
    {
     "data": {
      "text/plain": [
       "trajet\n",
       "Autre                          44018\n",
       "Courses – achats                3542\n",
       "Domicile – travail             17640\n",
       "Domicile – école                2665\n",
       "Promenade – loisirs            51365\n",
       "Utilisation professionnelle    12497\n",
       "dtype: int64"
      ]
     },
     "execution_count": 54,
     "metadata": {},
     "output_type": "execute_result"
    }
   ],
   "source": [
    "tab_trajet = victime.groupby(\"trajet\").size()\n",
    "tab_trajet"
   ]
  },
  {
   "cell_type": "code",
   "execution_count": 55,
   "metadata": {},
   "outputs": [
    {
     "data": {
      "image/png": "[encoded data removed]",
      "text/plain": [
       "<Figure size 1080x576 with 1 Axes>"
      ]
     },
     "metadata": {
      "needs_background": "light"
     },
     "output_type": "display_data"
    }
   ],
   "source": [
    "fig = plt.figure(7, figsize=(15, 8))\n",
    "\n",
    "ct = pd.crosstab(victime['trajet'],victime['grav']) \n",
    "\n",
    "# now stack and reset\n",
    "stacked = ct.stack().reset_index().rename(columns={0:'value'})\n",
    "\n",
    "# plot grouped bar chart\n",
    "ax = sns.barplot(x=stacked.trajet, y=stacked.value, hue=stacked.grav, palette=\"PuBu\")\n",
    "ax.set_title(\"Effectif des usagers, regroupement par trajet\")\n",
    "ax.set_xlabel(\"Trajet effectué\")\n",
    "ax.set_ylabel('Effectif')\n",
    "\n",
    "plt.legend(title = \"Gravité\")\n",
    "\n",
    "plt.show()"
   ]
  },
  {
   "cell_type": "code",
   "execution_count": 56,
   "metadata": {},
   "outputs": [
    {
     "data": {
      "image/png": "[encoded data removed]",
      "text/plain": [
       "<Figure size 1080x576 with 1 Axes>"
      ]
     },
     "metadata": {
      "needs_background": "light"
     },
     "output_type": "display_data"
    }
   ],
   "source": [
    "fig = plt.figure(8, figsize=(15, 8))\n",
    "\n",
    "# plot grouped bar chart\n",
    "ax = sns.barplot(x=stacked.grav, y=stacked.value, hue=stacked.trajet, palette=\"PuBu\")\n",
    "ax.set_title(\"Effectif des usagers, regroupement par gravité\")\n",
    "ax.set_xlabel(\"Gravité\")\n",
    "ax.set_ylabel('Effectif')\n",
    "\n",
    "plt.legend(title = \"Trajet effectué\")\n",
    "plt.show()"
   ]
  },
  {
   "cell_type": "markdown",
   "metadata": {},
   "source": [
    "### Profils Lignes"
   ]
  },
  {
   "cell_type": "code",
   "execution_count": 57,
   "metadata": {},
   "outputs": [
    {
     "data": {
      "text/html": [
       "<div>\n",
       "<style scoped>\n",
       "    .dataframe tbody tr th:only-of-type {\n",
       "        vertical-align: middle;\n",
       "    }\n",
       "\n",
       "    .dataframe tbody tr th {\n",
       "        vertical-align: top;\n",
       "    }\n",
       "\n",
       "    .dataframe thead th {\n",
       "        text-align: right;\n",
       "    }\n",
       "</style>\n",
       "<table border=\"1\" class=\"dataframe\">\n",
       "  <thead>\n",
       "    <tr style=\"text-align: right;\">\n",
       "      <th>grav</th>\n",
       "      <th>Blessé hospitalisé</th>\n",
       "      <th>Blessé léger</th>\n",
       "      <th>Indemne</th>\n",
       "      <th>Tué</th>\n",
       "      <th>Total</th>\n",
       "    </tr>\n",
       "    <tr>\n",
       "      <th>trajet</th>\n",
       "      <th></th>\n",
       "      <th></th>\n",
       "      <th></th>\n",
       "      <th></th>\n",
       "      <th></th>\n",
       "    </tr>\n",
       "  </thead>\n",
       "  <tbody>\n",
       "    <tr>\n",
       "      <th>Autre</th>\n",
       "      <td>13.0</td>\n",
       "      <td>45.0</td>\n",
       "      <td>41.0</td>\n",
       "      <td>2.0</td>\n",
       "      <td>100</td>\n",
       "    </tr>\n",
       "    <tr>\n",
       "      <th>Courses – achats</th>\n",
       "      <td>20.0</td>\n",
       "      <td>33.0</td>\n",
       "      <td>42.0</td>\n",
       "      <td>5.0</td>\n",
       "      <td>100</td>\n",
       "    </tr>\n",
       "    <tr>\n",
       "      <th>Domicile – travail</th>\n",
       "      <td>14.0</td>\n",
       "      <td>44.0</td>\n",
       "      <td>41.0</td>\n",
       "      <td>2.0</td>\n",
       "      <td>100</td>\n",
       "    </tr>\n",
       "    <tr>\n",
       "      <th>Domicile – école</th>\n",
       "      <td>15.0</td>\n",
       "      <td>52.0</td>\n",
       "      <td>31.0</td>\n",
       "      <td>1.0</td>\n",
       "      <td>100</td>\n",
       "    </tr>\n",
       "    <tr>\n",
       "      <th>Promenade – loisirs</th>\n",
       "      <td>21.0</td>\n",
       "      <td>38.0</td>\n",
       "      <td>38.0</td>\n",
       "      <td>4.0</td>\n",
       "      <td>100</td>\n",
       "    </tr>\n",
       "    <tr>\n",
       "      <th>Utilisation professionnelle</th>\n",
       "      <td>6.0</td>\n",
       "      <td>27.0</td>\n",
       "      <td>65.0</td>\n",
       "      <td>1.0</td>\n",
       "      <td>100</td>\n",
       "    </tr>\n",
       "  </tbody>\n",
       "</table>\n",
       "</div>"
      ],
      "text/plain": [
       "grav                         Blessé hospitalisé  Blessé léger  Indemne  Tué  \\\n",
       "trajet                                                                        \n",
       "Autre                                      13.0          45.0     41.0  2.0   \n",
       "Courses – achats                           20.0          33.0     42.0  5.0   \n",
       "Domicile – travail                         14.0          44.0     41.0  2.0   \n",
       "Domicile – école                           15.0          52.0     31.0  1.0   \n",
       "Promenade – loisirs                        21.0          38.0     38.0  4.0   \n",
       "Utilisation professionnelle                 6.0          27.0     65.0  1.0   \n",
       "\n",
       "grav                         Total  \n",
       "trajet                              \n",
       "Autre                          100  \n",
       "Courses – achats               100  \n",
       "Domicile – travail             100  \n",
       "Domicile – école               100  \n",
       "Promenade – loisirs            100  \n",
       "Utilisation professionnelle    100  "
      ]
     },
     "execution_count": 57,
     "metadata": {},
     "output_type": "execute_result"
    }
   ],
   "source": [
    "ct['Total'] = ct.sum(axis=1)\n",
    "\n",
    "profil_ligne_grav_trajet = ct.copy()\n",
    "\n",
    "for i in trajet :\n",
    "    tot = profil_ligne_grav_trajet.loc[i]['Total']\n",
    "    profil_ligne_grav_trajet.loc[i] = profil_ligne_grav_trajet.loc[i].div(tot)*100\n",
    "\n",
    "\n",
    "profil_ligne_grav_trajet = profil_ligne_grav_trajet.round(0)\n",
    "profil_ligne_grav_trajet"
   ]
  },
  {
   "cell_type": "code",
   "execution_count": 58,
   "metadata": {},
   "outputs": [
    {
     "data": {
      "image/png": "[encoded data removed]",
      "text/plain": [
       "<Figure size 1080x576 with 1 Axes>"
      ]
     },
     "metadata": {
      "needs_background": "light"
     },
     "output_type": "display_data"
    }
   ],
   "source": [
    "# now stack and reset\n",
    "stacked = profil_ligne_grav_trajet.drop(columns='Total').stack().reset_index().rename(columns={0:'value'})\n",
    "\n",
    "fig = plt.figure(7, figsize=(15, 8))\n",
    "\n",
    "\n",
    "# plot grouped bar chart\n",
    "ax = sns.barplot(x=stacked.trajet, y=stacked.value, hue=stacked.grav, palette=\"PuBu\")\n",
    "ax.set_title(\"Graphique à bâtons sur les profils lignes, regroupement par trajet\")\n",
    "ax.set_xlabel(\"Trajet effectué\")\n",
    "ax.set_ylabel('Pourcentage')\n",
    "\n",
    "plt.legend(title = \"Gravité\")\n",
    "\n",
    "for p in ax.patches: \n",
    "    ax.annotate(format(p.get_height()) + \"%\", \n",
    "                   (p.get_x() + p.get_width() / 2., p.get_height()), \n",
    "                   ha='center', va='center', \n",
    "                   xytext=(0, 9), \n",
    "                   textcoords='offset points')\n",
    "    \n",
    "plt.show()"
   ]
  },
  {
   "cell_type": "markdown",
   "metadata": {},
   "source": [
    "### Profils colonnes"
   ]
  },
  {
   "cell_type": "code",
   "execution_count": 59,
   "metadata": {},
   "outputs": [
    {
     "data": {
      "text/html": [
       "<div>\n",
       "<style scoped>\n",
       "    .dataframe tbody tr th:only-of-type {\n",
       "        vertical-align: middle;\n",
       "    }\n",
       "\n",
       "    .dataframe tbody tr th {\n",
       "        vertical-align: top;\n",
       "    }\n",
       "\n",
       "    .dataframe thead th {\n",
       "        text-align: right;\n",
       "    }\n",
       "</style>\n",
       "<table border=\"1\" class=\"dataframe\">\n",
       "  <thead>\n",
       "    <tr style=\"text-align: right;\">\n",
       "      <th>trajet</th>\n",
       "      <th>Autre</th>\n",
       "      <th>Courses – achats</th>\n",
       "      <th>Domicile – travail</th>\n",
       "      <th>Domicile – école</th>\n",
       "      <th>Promenade – loisirs</th>\n",
       "      <th>Utilisation professionnelle</th>\n",
       "      <th>Total</th>\n",
       "    </tr>\n",
       "    <tr>\n",
       "      <th>grav</th>\n",
       "      <th></th>\n",
       "      <th></th>\n",
       "      <th></th>\n",
       "      <th></th>\n",
       "      <th></th>\n",
       "      <th></th>\n",
       "      <th></th>\n",
       "    </tr>\n",
       "  </thead>\n",
       "  <tbody>\n",
       "    <tr>\n",
       "      <th>Blessé hospitalisé</th>\n",
       "      <td>27.0</td>\n",
       "      <td>4.0</td>\n",
       "      <td>12.0</td>\n",
       "      <td>2.0</td>\n",
       "      <td>52.0</td>\n",
       "      <td>4.0</td>\n",
       "      <td>100</td>\n",
       "    </tr>\n",
       "    <tr>\n",
       "      <th>Blessé léger</th>\n",
       "      <td>37.0</td>\n",
       "      <td>2.0</td>\n",
       "      <td>15.0</td>\n",
       "      <td>3.0</td>\n",
       "      <td>37.0</td>\n",
       "      <td>7.0</td>\n",
       "      <td>100</td>\n",
       "    </tr>\n",
       "    <tr>\n",
       "      <th>Indemne</th>\n",
       "      <td>32.0</td>\n",
       "      <td>3.0</td>\n",
       "      <td>13.0</td>\n",
       "      <td>1.0</td>\n",
       "      <td>36.0</td>\n",
       "      <td>15.0</td>\n",
       "      <td>100</td>\n",
       "    </tr>\n",
       "    <tr>\n",
       "      <th>Tué</th>\n",
       "      <td>28.0</td>\n",
       "      <td>5.0</td>\n",
       "      <td>9.0</td>\n",
       "      <td>1.0</td>\n",
       "      <td>55.0</td>\n",
       "      <td>3.0</td>\n",
       "      <td>100</td>\n",
       "    </tr>\n",
       "  </tbody>\n",
       "</table>\n",
       "</div>"
      ],
      "text/plain": [
       "trajet              Autre  Courses – achats  Domicile – travail  \\\n",
       "grav                                                              \n",
       "Blessé hospitalisé   27.0               4.0                12.0   \n",
       "Blessé léger         37.0               2.0                15.0   \n",
       "Indemne              32.0               3.0                13.0   \n",
       "Tué                  28.0               5.0                 9.0   \n",
       "\n",
       "trajet              Domicile – école  Promenade – loisirs  \\\n",
       "grav                                                        \n",
       "Blessé hospitalisé               2.0                 52.0   \n",
       "Blessé léger                     3.0                 37.0   \n",
       "Indemne                          1.0                 36.0   \n",
       "Tué                              1.0                 55.0   \n",
       "\n",
       "trajet              Utilisation professionnelle  Total  \n",
       "grav                                                    \n",
       "Blessé hospitalisé                          4.0    100  \n",
       "Blessé léger                                7.0    100  \n",
       "Indemne                                    15.0    100  \n",
       "Tué                                         3.0    100  "
      ]
     },
     "execution_count": 59,
     "metadata": {},
     "output_type": "execute_result"
    }
   ],
   "source": [
    "ct = ct.drop(columns = 'Total').T\n",
    "ct['Total'] = ct.sum(axis=1)\n",
    "\n",
    "profil_colonne_grav_trajet = ct.copy()\n",
    "\n",
    "for i in grav :\n",
    "    tot = profil_colonne_grav_trajet.loc[i]['Total']\n",
    "    profil_colonne_grav_trajet.loc[i] = profil_colonne_grav_trajet.loc[i].div(tot)*100\n",
    "\n",
    "\n",
    "\n",
    "profil_colonne_grav_trajet = profil_colonne_grav_trajet.round(0)\n",
    "profil_colonne_grav_trajet"
   ]
  },
  {
   "cell_type": "code",
   "execution_count": 60,
   "metadata": {},
   "outputs": [
    {
     "data": {
      "image/png": "[encoded data removed]",
      "text/plain": [
       "<Figure size 1080x576 with 1 Axes>"
      ]
     },
     "metadata": {
      "needs_background": "light"
     },
     "output_type": "display_data"
    }
   ],
   "source": [
    "# now stack and reset\n",
    "stacked = profil_colonne_grav_trajet.drop(columns='Total').stack().reset_index().rename(columns={0:'value'})\n",
    "\n",
    "fig = plt.figure(7, figsize=(15, 8))\n",
    "\n",
    "\n",
    "# plot grouped bar chart\n",
    "ax = sns.barplot(x=stacked.grav, y=stacked.value, hue=stacked.trajet, palette=\"PuBu\")\n",
    "ax.set_title(\"Graphique à bâtons sur les profils colonnes, regroupement par gravité\")\n",
    "ax.set_xlabel(\"Gravité\")\n",
    "ax.set_ylabel('Pourcentage')\n",
    "\n",
    "plt.legend(title = \"Trajet\")\n",
    "\n",
    "for p in ax.patches: \n",
    "    ax.annotate(format(p.get_height()) + \"%\", \n",
    "                   (p.get_x() + p.get_width() / 2., p.get_height()), \n",
    "                   ha='center', va='center', \n",
    "                   xytext=(0, 9), \n",
    "                   textcoords='offset points')\n",
    "    \n",
    "plt.show()"
   ]
  },
  {
   "cell_type": "markdown",
   "metadata": {},
   "source": [
    "## Gravité X Conditions atmosphériques"
   ]
  },
  {
   "cell_type": "code",
   "execution_count": 61,
   "metadata": {},
   "outputs": [
    {
     "data": {
      "text/plain": [
       "atm\n",
       "Autre                     652\n",
       "Brouillard - Fumée        719\n",
       "Neige - Grêle             616\n",
       "Normale                104276\n",
       "Pluie forte              3224\n",
       "Pluie légère            14656\n",
       "Temps couvert            4907\n",
       "Temps éblouissant        2313\n",
       "Vent fort - Tempête       364\n",
       "dtype: int64"
      ]
     },
     "execution_count": 61,
     "metadata": {},
     "output_type": "execute_result"
    }
   ],
   "source": [
    "tab_atm = victime.groupby(\"atm\").size()\n",
    "tab_atm"
   ]
  },
  {
   "cell_type": "code",
   "execution_count": 62,
   "metadata": {},
   "outputs": [
    {
     "data": {
      "image/png": "[encoded data removed]",
      "text/plain": [
       "<Figure size 1080x576 with 1 Axes>"
      ]
     },
     "metadata": {
      "needs_background": "light"
     },
     "output_type": "display_data"
    }
   ],
   "source": [
    "fig = plt.figure(9, figsize=(15, 8))\n",
    "\n",
    "ct = pd.crosstab(victime['atm'],victime['grav']) \n",
    "\n",
    "# now stack and reset\n",
    "stacked = ct.stack().reset_index().rename(columns={0:'value'})\n",
    "\n",
    "# plot grouped bar chart\n",
    "ax = sns.barplot(x=stacked.atm, y=stacked.value, hue=stacked.grav, palette=\"PuBu\")\n",
    "ax.set_title(\"Effectif des usagers, regroupement par condition atmosphérique\")\n",
    "ax.set_xlabel(\"Conditions atmosphériques\")\n",
    "ax.set_ylabel('Effectif')\n",
    "\n",
    "plt.legend(title = \"Gravité\")\n",
    "\n",
    "plt.show()"
   ]
  },
  {
   "cell_type": "code",
   "execution_count": 63,
   "metadata": {},
   "outputs": [
    {
     "data": {
      "image/png": "[encoded data removed]",
      "text/plain": [
       "<Figure size 1080x576 with 1 Axes>"
      ]
     },
     "metadata": {
      "needs_background": "light"
     },
     "output_type": "display_data"
    }
   ],
   "source": [
    "fig = plt.figure(10, figsize=(15, 8))\n",
    "\n",
    "# plot grouped bar chart\n",
    "ax = sns.barplot(x=stacked.grav, y=stacked.value, hue=stacked.atm, palette=\"PuBu\")\n",
    "ax.set_title(\"Effectif des usagers, regroupement par gravité\")\n",
    "ax.set_xlabel(\"Gravité\")\n",
    "ax.set_ylabel('Effectif')\n",
    "\n",
    "plt.legend(title = \"Conditions atmosphériques\")\n",
    "plt.show()"
   ]
  },
  {
   "cell_type": "markdown",
   "metadata": {},
   "source": [
    "### Profils lignes"
   ]
  },
  {
   "cell_type": "code",
   "execution_count": 64,
   "metadata": {},
   "outputs": [
    {
     "data": {
      "text/html": [
       "<div>\n",
       "<style scoped>\n",
       "    .dataframe tbody tr th:only-of-type {\n",
       "        vertical-align: middle;\n",
       "    }\n",
       "\n",
       "    .dataframe tbody tr th {\n",
       "        vertical-align: top;\n",
       "    }\n",
       "\n",
       "    .dataframe thead th {\n",
       "        text-align: right;\n",
       "    }\n",
       "</style>\n",
       "<table border=\"1\" class=\"dataframe\">\n",
       "  <thead>\n",
       "    <tr style=\"text-align: right;\">\n",
       "      <th>grav</th>\n",
       "      <th>Blessé hospitalisé</th>\n",
       "      <th>Blessé léger</th>\n",
       "      <th>Indemne</th>\n",
       "      <th>Tué</th>\n",
       "      <th>Total</th>\n",
       "    </tr>\n",
       "    <tr>\n",
       "      <th>atm</th>\n",
       "      <th></th>\n",
       "      <th></th>\n",
       "      <th></th>\n",
       "      <th></th>\n",
       "      <th></th>\n",
       "    </tr>\n",
       "  </thead>\n",
       "  <tbody>\n",
       "    <tr>\n",
       "      <th>Autre</th>\n",
       "      <td>19.0</td>\n",
       "      <td>40.0</td>\n",
       "      <td>34.0</td>\n",
       "      <td>6.0</td>\n",
       "      <td>100</td>\n",
       "    </tr>\n",
       "    <tr>\n",
       "      <th>Brouillard - Fumée</th>\n",
       "      <td>24.0</td>\n",
       "      <td>38.0</td>\n",
       "      <td>33.0</td>\n",
       "      <td>5.0</td>\n",
       "      <td>100</td>\n",
       "    </tr>\n",
       "    <tr>\n",
       "      <th>Neige - Grêle</th>\n",
       "      <td>15.0</td>\n",
       "      <td>36.0</td>\n",
       "      <td>46.0</td>\n",
       "      <td>4.0</td>\n",
       "      <td>100</td>\n",
       "    </tr>\n",
       "    <tr>\n",
       "      <th>Normale</th>\n",
       "      <td>16.0</td>\n",
       "      <td>40.0</td>\n",
       "      <td>42.0</td>\n",
       "      <td>3.0</td>\n",
       "      <td>100</td>\n",
       "    </tr>\n",
       "    <tr>\n",
       "      <th>Pluie forte</th>\n",
       "      <td>17.0</td>\n",
       "      <td>41.0</td>\n",
       "      <td>40.0</td>\n",
       "      <td>3.0</td>\n",
       "      <td>100</td>\n",
       "    </tr>\n",
       "    <tr>\n",
       "      <th>Pluie légère</th>\n",
       "      <td>13.0</td>\n",
       "      <td>44.0</td>\n",
       "      <td>41.0</td>\n",
       "      <td>2.0</td>\n",
       "      <td>100</td>\n",
       "    </tr>\n",
       "    <tr>\n",
       "      <th>Temps couvert</th>\n",
       "      <td>14.0</td>\n",
       "      <td>42.0</td>\n",
       "      <td>41.0</td>\n",
       "      <td>3.0</td>\n",
       "      <td>100</td>\n",
       "    </tr>\n",
       "    <tr>\n",
       "      <th>Temps éblouissant</th>\n",
       "      <td>23.0</td>\n",
       "      <td>29.0</td>\n",
       "      <td>45.0</td>\n",
       "      <td>4.0</td>\n",
       "      <td>100</td>\n",
       "    </tr>\n",
       "    <tr>\n",
       "      <th>Vent fort - Tempête</th>\n",
       "      <td>26.0</td>\n",
       "      <td>34.0</td>\n",
       "      <td>33.0</td>\n",
       "      <td>7.0</td>\n",
       "      <td>100</td>\n",
       "    </tr>\n",
       "  </tbody>\n",
       "</table>\n",
       "</div>"
      ],
      "text/plain": [
       "grav                 Blessé hospitalisé  Blessé léger  Indemne  Tué  Total\n",
       "atm                                                                       \n",
       "Autre                              19.0          40.0     34.0  6.0    100\n",
       "Brouillard - Fumée                 24.0          38.0     33.0  5.0    100\n",
       "Neige - Grêle                      15.0          36.0     46.0  4.0    100\n",
       "Normale                            16.0          40.0     42.0  3.0    100\n",
       "Pluie forte                        17.0          41.0     40.0  3.0    100\n",
       "Pluie légère                       13.0          44.0     41.0  2.0    100\n",
       "Temps couvert                      14.0          42.0     41.0  3.0    100\n",
       "Temps éblouissant                  23.0          29.0     45.0  4.0    100\n",
       "Vent fort - Tempête                26.0          34.0     33.0  7.0    100"
      ]
     },
     "execution_count": 64,
     "metadata": {},
     "output_type": "execute_result"
    }
   ],
   "source": [
    "ct['Total'] = ct.sum(axis=1)\n",
    "\n",
    "profil_ligne_grav_atm = ct.copy()\n",
    "\n",
    "for i in atm:\n",
    "    tot = profil_ligne_grav_atm.loc[i]['Total']\n",
    "    profil_ligne_grav_atm.loc[i] = profil_ligne_grav_atm.loc[i].div(tot)*100\n",
    "\n",
    "\n",
    "profil_ligne_grav_atm = profil_ligne_grav_atm.round(0)\n",
    "profil_ligne_grav_atm"
   ]
  },
  {
   "cell_type": "code",
   "execution_count": 65,
   "metadata": {},
   "outputs": [
    {
     "data": {
      "image/png": "[encoded data removed]",
      "text/plain": [
       "<Figure size 1080x576 with 1 Axes>"
      ]
     },
     "metadata": {
      "needs_background": "light"
     },
     "output_type": "display_data"
    }
   ],
   "source": [
    "# now stack and reset\n",
    "stacked = profil_ligne_grav_atm.drop(columns='Total').stack().reset_index().rename(columns={0:'value'})\n",
    "\n",
    "fig = plt.figure(7, figsize=(15, 8))\n",
    "\n",
    "\n",
    "# plot grouped bar chart\n",
    "ax = sns.barplot(x=stacked.atm, y=stacked.value, hue=stacked.grav, palette=\"PuBu\")\n",
    "ax.set_title(\"Graphique à bâtons sur les profils lignes, regroupement par condition atmosphérique\")\n",
    "ax.set_xlabel(\"Conditions atmosphériques\")\n",
    "ax.set_ylabel('Pourcentage')\n",
    "\n",
    "plt.legend(title = \"Gravité\")\n",
    "\n",
    "for p in ax.patches: \n",
    "    ax.annotate(format(p.get_height()) + \"%\", \n",
    "                   (p.get_x() + p.get_width() / 2., p.get_height()), \n",
    "                   ha='center', va='center', \n",
    "                   xytext=(0, 9), \n",
    "                   textcoords='offset points')\n",
    "    \n",
    "plt.show()"
   ]
  },
  {
   "cell_type": "markdown",
   "metadata": {},
   "source": [
    "### Profils colonnes"
   ]
  },
  {
   "cell_type": "code",
   "execution_count": 66,
   "metadata": {},
   "outputs": [
    {
     "data": {
      "text/html": [
       "<div>\n",
       "<style scoped>\n",
       "    .dataframe tbody tr th:only-of-type {\n",
       "        vertical-align: middle;\n",
       "    }\n",
       "\n",
       "    .dataframe tbody tr th {\n",
       "        vertical-align: top;\n",
       "    }\n",
       "\n",
       "    .dataframe thead th {\n",
       "        text-align: right;\n",
       "    }\n",
       "</style>\n",
       "<table border=\"1\" class=\"dataframe\">\n",
       "  <thead>\n",
       "    <tr style=\"text-align: right;\">\n",
       "      <th>atm</th>\n",
       "      <th>Autre</th>\n",
       "      <th>Brouillard - Fumée</th>\n",
       "      <th>Neige - Grêle</th>\n",
       "      <th>Normale</th>\n",
       "      <th>Pluie forte</th>\n",
       "      <th>Pluie légère</th>\n",
       "      <th>Temps couvert</th>\n",
       "      <th>Temps éblouissant</th>\n",
       "      <th>Vent fort - Tempête</th>\n",
       "      <th>Total</th>\n",
       "    </tr>\n",
       "    <tr>\n",
       "      <th>grav</th>\n",
       "      <th></th>\n",
       "      <th></th>\n",
       "      <th></th>\n",
       "      <th></th>\n",
       "      <th></th>\n",
       "      <th></th>\n",
       "      <th></th>\n",
       "      <th></th>\n",
       "      <th></th>\n",
       "      <th></th>\n",
       "    </tr>\n",
       "  </thead>\n",
       "  <tbody>\n",
       "    <tr>\n",
       "      <th>Blessé hospitalisé</th>\n",
       "      <td>1.0</td>\n",
       "      <td>1.0</td>\n",
       "      <td>0.0</td>\n",
       "      <td>79.0</td>\n",
       "      <td>3.0</td>\n",
       "      <td>10.0</td>\n",
       "      <td>3.0</td>\n",
       "      <td>3.0</td>\n",
       "      <td>0.0</td>\n",
       "      <td>100</td>\n",
       "    </tr>\n",
       "    <tr>\n",
       "      <th>Blessé léger</th>\n",
       "      <td>1.0</td>\n",
       "      <td>1.0</td>\n",
       "      <td>0.0</td>\n",
       "      <td>79.0</td>\n",
       "      <td>2.0</td>\n",
       "      <td>12.0</td>\n",
       "      <td>4.0</td>\n",
       "      <td>1.0</td>\n",
       "      <td>0.0</td>\n",
       "      <td>100</td>\n",
       "    </tr>\n",
       "    <tr>\n",
       "      <th>Indemne</th>\n",
       "      <td>0.0</td>\n",
       "      <td>0.0</td>\n",
       "      <td>1.0</td>\n",
       "      <td>80.0</td>\n",
       "      <td>2.0</td>\n",
       "      <td>11.0</td>\n",
       "      <td>4.0</td>\n",
       "      <td>2.0</td>\n",
       "      <td>0.0</td>\n",
       "      <td>100</td>\n",
       "    </tr>\n",
       "    <tr>\n",
       "      <th>Tué</th>\n",
       "      <td>1.0</td>\n",
       "      <td>1.0</td>\n",
       "      <td>1.0</td>\n",
       "      <td>77.0</td>\n",
       "      <td>2.0</td>\n",
       "      <td>10.0</td>\n",
       "      <td>5.0</td>\n",
       "      <td>2.0</td>\n",
       "      <td>1.0</td>\n",
       "      <td>100</td>\n",
       "    </tr>\n",
       "  </tbody>\n",
       "</table>\n",
       "</div>"
      ],
      "text/plain": [
       "atm                 Autre  Brouillard - Fumée  Neige - Grêle  Normale  \\\n",
       "grav                                                                    \n",
       "Blessé hospitalisé    1.0                 1.0            0.0     79.0   \n",
       "Blessé léger          1.0                 1.0            0.0     79.0   \n",
       "Indemne               0.0                 0.0            1.0     80.0   \n",
       "Tué                   1.0                 1.0            1.0     77.0   \n",
       "\n",
       "atm                 Pluie forte  Pluie légère  Temps couvert  \\\n",
       "grav                                                           \n",
       "Blessé hospitalisé          3.0          10.0            3.0   \n",
       "Blessé léger                2.0          12.0            4.0   \n",
       "Indemne                     2.0          11.0            4.0   \n",
       "Tué                         2.0          10.0            5.0   \n",
       "\n",
       "atm                 Temps éblouissant  Vent fort - Tempête  Total  \n",
       "grav                                                               \n",
       "Blessé hospitalisé                3.0                  0.0    100  \n",
       "Blessé léger                      1.0                  0.0    100  \n",
       "Indemne                           2.0                  0.0    100  \n",
       "Tué                               2.0                  1.0    100  "
      ]
     },
     "execution_count": 66,
     "metadata": {},
     "output_type": "execute_result"
    }
   ],
   "source": [
    "ct = ct.drop(columns = 'Total').T\n",
    "ct['Total'] = ct.sum(axis=1)\n",
    "\n",
    "profil_colonne_grav_atm = ct.copy()\n",
    "\n",
    "for i in grav :\n",
    "    tot = profil_colonne_grav_atm.loc[i]['Total']\n",
    "    profil_colonne_grav_atm.loc[i] = profil_colonne_grav_atm.loc[i].div(tot)*100\n",
    "\n",
    "\n",
    "\n",
    "profil_colonne_grav_atm = profil_colonne_grav_atm.round(0)\n",
    "profil_colonne_grav_atm"
   ]
  },
  {
   "cell_type": "code",
   "execution_count": 67,
   "metadata": {},
   "outputs": [
    {
     "data": {
      "image/png": "[encoded data removed]",
      "text/plain": [
       "<Figure size 1080x576 with 1 Axes>"
      ]
     },
     "metadata": {
      "needs_background": "light"
     },
     "output_type": "display_data"
    }
   ],
   "source": [
    "# now stack and reset\n",
    "stacked = profil_colonne_grav_atm.drop(columns='Total').stack().reset_index().rename(columns={0:'value'})\n",
    "\n",
    "fig = plt.figure(7, figsize=(15, 8))\n",
    "\n",
    "\n",
    "# plot grouped bar chart\n",
    "ax = sns.barplot(x=stacked.grav, y=stacked.value, hue=stacked.atm, palette=\"PuBu\")\n",
    "ax.set_title(\"Graphique à bâtons sur les profils colonnes, regroupement par gravité\")\n",
    "ax.set_xlabel(\"Gravité\")\n",
    "ax.set_ylabel('Pourcentage')\n",
    "\n",
    "plt.legend(title = \"Condition atmosphérique\")\n",
    "\n",
    "for p in ax.patches: \n",
    "    ax.annotate(format(p.get_height()) + \"%\", \n",
    "                   (p.get_x() + p.get_width() / 2., p.get_height()), \n",
    "                   ha='center', va='center', \n",
    "                   xytext=(0, 9), \n",
    "                   textcoords='offset points')\n",
    "    \n",
    "plt.show()"
   ]
  },
  {
   "cell_type": "markdown",
   "metadata": {},
   "source": [
    "## Gravité X Luminosité"
   ]
  },
  {
   "cell_type": "code",
   "execution_count": 68,
   "metadata": {},
   "outputs": [
    {
     "data": {
      "text/plain": [
       "lum\n",
       "Crépuscule ou aube                        8211\n",
       "Nuit avec éclairage public allumé        21053\n",
       "Nuit avec éclairage public non allumé     1199\n",
       "Nuit sans éclairage public               13629\n",
       "Plein jour                               87635\n",
       "dtype: int64"
      ]
     },
     "execution_count": 68,
     "metadata": {},
     "output_type": "execute_result"
    }
   ],
   "source": [
    "tab_lum = victime.groupby(\"lum\").size()\n",
    "tab_lum"
   ]
  },
  {
   "cell_type": "code",
   "execution_count": 69,
   "metadata": {},
   "outputs": [
    {
     "data": {
      "image/png": "[encoded data removed]",
      "text/plain": [
       "<Figure size 1080x576 with 1 Axes>"
      ]
     },
     "metadata": {
      "needs_background": "light"
     },
     "output_type": "display_data"
    }
   ],
   "source": [
    "fig = plt.figure(11, figsize=(15, 8))\n",
    "\n",
    "ct = pd.crosstab(victime['lum'],victime['grav']) \n",
    "\n",
    "# now stack and reset\n",
    "stacked = ct.stack().reset_index().rename(columns={0:'value'})\n",
    "\n",
    "# plot grouped bar chart\n",
    "ax = sns.barplot(x=stacked.lum, y=stacked.value, hue=stacked.grav, palette=\"PuBu\")\n",
    "ax.set_title(\"Effectif des usagers, regroupement par luminosité\")\n",
    "ax.set_xlabel(\"Luminosité\")\n",
    "ax.set_ylabel('Effectif')\n",
    "\n",
    "plt.legend(title = \"Gravité\")\n",
    "\n",
    "plt.show()"
   ]
  },
  {
   "cell_type": "code",
   "execution_count": 70,
   "metadata": {},
   "outputs": [
    {
     "data": {
      "image/png": "[encoded data removed]",
      "text/plain": [
       "<Figure size 1080x576 with 1 Axes>"
      ]
     },
     "metadata": {
      "needs_background": "light"
     },
     "output_type": "display_data"
    }
   ],
   "source": [
    "fig = plt.figure(12, figsize=(15, 8))\n",
    "\n",
    "# plot grouped bar chart\n",
    "ax = sns.barplot(x=stacked.grav, y=stacked.value, hue=stacked.lum, palette=\"PuBu\")\n",
    "ax.set_title(\"Effectif des usagers, regroupement par gravité\")\n",
    "ax.set_xlabel(\"Gravité\")\n",
    "ax.set_ylabel('Effectif')\n",
    "\n",
    "plt.legend(title = \"Luminosité\")\n",
    "plt.show()"
   ]
  },
  {
   "cell_type": "markdown",
   "metadata": {},
   "source": [
    "### Profils lignes"
   ]
  },
  {
   "cell_type": "code",
   "execution_count": 71,
   "metadata": {},
   "outputs": [
    {
     "data": {
      "text/html": [
       "<div>\n",
       "<style scoped>\n",
       "    .dataframe tbody tr th:only-of-type {\n",
       "        vertical-align: middle;\n",
       "    }\n",
       "\n",
       "    .dataframe tbody tr th {\n",
       "        vertical-align: top;\n",
       "    }\n",
       "\n",
       "    .dataframe thead th {\n",
       "        text-align: right;\n",
       "    }\n",
       "</style>\n",
       "<table border=\"1\" class=\"dataframe\">\n",
       "  <thead>\n",
       "    <tr style=\"text-align: right;\">\n",
       "      <th>grav</th>\n",
       "      <th>Blessé hospitalisé</th>\n",
       "      <th>Blessé léger</th>\n",
       "      <th>Indemne</th>\n",
       "      <th>Tué</th>\n",
       "      <th>Total</th>\n",
       "    </tr>\n",
       "    <tr>\n",
       "      <th>lum</th>\n",
       "      <th></th>\n",
       "      <th></th>\n",
       "      <th></th>\n",
       "      <th></th>\n",
       "      <th></th>\n",
       "    </tr>\n",
       "  </thead>\n",
       "  <tbody>\n",
       "    <tr>\n",
       "      <th>Crépuscule ou aube</th>\n",
       "      <td>18.0</td>\n",
       "      <td>39.0</td>\n",
       "      <td>40.0</td>\n",
       "      <td>3.0</td>\n",
       "      <td>100</td>\n",
       "    </tr>\n",
       "    <tr>\n",
       "      <th>Nuit avec éclairage public allumé</th>\n",
       "      <td>13.0</td>\n",
       "      <td>45.0</td>\n",
       "      <td>41.0</td>\n",
       "      <td>2.0</td>\n",
       "      <td>100</td>\n",
       "    </tr>\n",
       "    <tr>\n",
       "      <th>Nuit avec éclairage public non allumé</th>\n",
       "      <td>14.0</td>\n",
       "      <td>43.0</td>\n",
       "      <td>39.0</td>\n",
       "      <td>4.0</td>\n",
       "      <td>100</td>\n",
       "    </tr>\n",
       "    <tr>\n",
       "      <th>Nuit sans éclairage public</th>\n",
       "      <td>23.0</td>\n",
       "      <td>37.0</td>\n",
       "      <td>34.0</td>\n",
       "      <td>6.0</td>\n",
       "      <td>100</td>\n",
       "    </tr>\n",
       "    <tr>\n",
       "      <th>Plein jour</th>\n",
       "      <td>15.0</td>\n",
       "      <td>39.0</td>\n",
       "      <td>44.0</td>\n",
       "      <td>2.0</td>\n",
       "      <td>100</td>\n",
       "    </tr>\n",
       "  </tbody>\n",
       "</table>\n",
       "</div>"
      ],
      "text/plain": [
       "grav                                   Blessé hospitalisé  Blessé léger  \\\n",
       "lum                                                                       \n",
       "Crépuscule ou aube                                   18.0          39.0   \n",
       "Nuit avec éclairage public allumé                    13.0          45.0   \n",
       "Nuit avec éclairage public non allumé                14.0          43.0   \n",
       "Nuit sans éclairage public                           23.0          37.0   \n",
       "Plein jour                                           15.0          39.0   \n",
       "\n",
       "grav                                   Indemne  Tué  Total  \n",
       "lum                                                         \n",
       "Crépuscule ou aube                        40.0  3.0    100  \n",
       "Nuit avec éclairage public allumé         41.0  2.0    100  \n",
       "Nuit avec éclairage public non allumé     39.0  4.0    100  \n",
       "Nuit sans éclairage public                34.0  6.0    100  \n",
       "Plein jour                                44.0  2.0    100  "
      ]
     },
     "execution_count": 71,
     "metadata": {},
     "output_type": "execute_result"
    }
   ],
   "source": [
    "ct['Total'] = ct.sum(axis=1)\n",
    "\n",
    "profil_ligne_grav_lum = ct.copy()\n",
    "\n",
    "for i in lum:\n",
    "    tot = profil_ligne_grav_lum.loc[i]['Total']\n",
    "    profil_ligne_grav_lum.loc[i] = profil_ligne_grav_lum.loc[i].div(tot)*100\n",
    "\n",
    "\n",
    "profil_ligne_grav_lum = profil_ligne_grav_lum.round(0)\n",
    "profil_ligne_grav_lum"
   ]
  },
  {
   "cell_type": "code",
   "execution_count": 72,
   "metadata": {},
   "outputs": [
    {
     "data": {
      "image/png": "[encoded data removed]",
      "text/plain": [
       "<Figure size 1080x576 with 1 Axes>"
      ]
     },
     "metadata": {
      "needs_background": "light"
     },
     "output_type": "display_data"
    }
   ],
   "source": [
    "# now stack and reset\n",
    "stacked = profil_ligne_grav_lum.drop(columns='Total').stack().reset_index().rename(columns={0:'value'})\n",
    "\n",
    "fig = plt.figure(7, figsize=(15, 8))\n",
    "\n",
    "\n",
    "# plot grouped bar chart\n",
    "ax = sns.barplot(x=stacked.lum, y=stacked.value, hue=stacked.grav, palette=\"PuBu\")\n",
    "ax.set_title(\"Graphique à bâtons sur les profils lignes, regroupement par niveau de luminosité\")\n",
    "ax.set_xlabel(\"Luminosité\")\n",
    "ax.set_ylabel('Pourcentage')\n",
    "\n",
    "plt.legend(title = \"Gravité\")\n",
    "\n",
    "for p in ax.patches: \n",
    "    ax.annotate(format(p.get_height()) + \"%\", \n",
    "                   (p.get_x() + p.get_width() / 2., p.get_height()), \n",
    "                   ha='center', va='center', \n",
    "                   xytext=(0, 9), \n",
    "                   textcoords='offset points')\n",
    "    \n",
    "plt.show()"
   ]
  },
  {
   "cell_type": "markdown",
   "metadata": {},
   "source": [
    "### Profils colonnes"
   ]
  },
  {
   "cell_type": "code",
   "execution_count": 73,
   "metadata": {},
   "outputs": [
    {
     "data": {
      "text/html": [
       "<div>\n",
       "<style scoped>\n",
       "    .dataframe tbody tr th:only-of-type {\n",
       "        vertical-align: middle;\n",
       "    }\n",
       "\n",
       "    .dataframe tbody tr th {\n",
       "        vertical-align: top;\n",
       "    }\n",
       "\n",
       "    .dataframe thead th {\n",
       "        text-align: right;\n",
       "    }\n",
       "</style>\n",
       "<table border=\"1\" class=\"dataframe\">\n",
       "  <thead>\n",
       "    <tr style=\"text-align: right;\">\n",
       "      <th>lum</th>\n",
       "      <th>Crépuscule ou aube</th>\n",
       "      <th>Nuit avec éclairage public allumé</th>\n",
       "      <th>Nuit avec éclairage public non allumé</th>\n",
       "      <th>Nuit sans éclairage public</th>\n",
       "      <th>Plein jour</th>\n",
       "      <th>Total</th>\n",
       "    </tr>\n",
       "    <tr>\n",
       "      <th>grav</th>\n",
       "      <th></th>\n",
       "      <th></th>\n",
       "      <th></th>\n",
       "      <th></th>\n",
       "      <th></th>\n",
       "      <th></th>\n",
       "    </tr>\n",
       "  </thead>\n",
       "  <tbody>\n",
       "    <tr>\n",
       "      <th>Blessé hospitalisé</th>\n",
       "      <td>7.0</td>\n",
       "      <td>13.0</td>\n",
       "      <td>1.0</td>\n",
       "      <td>15.0</td>\n",
       "      <td>64.0</td>\n",
       "      <td>100</td>\n",
       "    </tr>\n",
       "    <tr>\n",
       "      <th>Blessé léger</th>\n",
       "      <td>6.0</td>\n",
       "      <td>18.0</td>\n",
       "      <td>1.0</td>\n",
       "      <td>10.0</td>\n",
       "      <td>65.0</td>\n",
       "      <td>100</td>\n",
       "    </tr>\n",
       "    <tr>\n",
       "      <th>Indemne</th>\n",
       "      <td>6.0</td>\n",
       "      <td>16.0</td>\n",
       "      <td>1.0</td>\n",
       "      <td>8.0</td>\n",
       "      <td>69.0</td>\n",
       "      <td>100</td>\n",
       "    </tr>\n",
       "    <tr>\n",
       "      <th>Tué</th>\n",
       "      <td>7.0</td>\n",
       "      <td>11.0</td>\n",
       "      <td>1.0</td>\n",
       "      <td>25.0</td>\n",
       "      <td>56.0</td>\n",
       "      <td>100</td>\n",
       "    </tr>\n",
       "  </tbody>\n",
       "</table>\n",
       "</div>"
      ],
      "text/plain": [
       "lum                 Crépuscule ou aube  Nuit avec éclairage public allumé  \\\n",
       "grav                                                                        \n",
       "Blessé hospitalisé                 7.0                               13.0   \n",
       "Blessé léger                       6.0                               18.0   \n",
       "Indemne                            6.0                               16.0   \n",
       "Tué                                7.0                               11.0   \n",
       "\n",
       "lum                 Nuit avec éclairage public non allumé  \\\n",
       "grav                                                        \n",
       "Blessé hospitalisé                                    1.0   \n",
       "Blessé léger                                          1.0   \n",
       "Indemne                                               1.0   \n",
       "Tué                                                   1.0   \n",
       "\n",
       "lum                 Nuit sans éclairage public  Plein jour  Total  \n",
       "grav                                                               \n",
       "Blessé hospitalisé                        15.0        64.0    100  \n",
       "Blessé léger                              10.0        65.0    100  \n",
       "Indemne                                    8.0        69.0    100  \n",
       "Tué                                       25.0        56.0    100  "
      ]
     },
     "execution_count": 73,
     "metadata": {},
     "output_type": "execute_result"
    }
   ],
   "source": [
    "ct = ct.drop(columns = 'Total').T\n",
    "ct['Total'] = ct.sum(axis=1)\n",
    "\n",
    "profil_colonne_grav_lum = ct.copy()\n",
    "\n",
    "for i in grav :\n",
    "    tot = profil_colonne_grav_lum.loc[i]['Total']\n",
    "    profil_colonne_grav_lum.loc[i] = profil_colonne_grav_lum.loc[i].div(tot)*100\n",
    "\n",
    "\n",
    "\n",
    "profil_colonne_grav_lum = profil_colonne_grav_lum.round(0)\n",
    "profil_colonne_grav_lum"
   ]
  },
  {
   "cell_type": "code",
   "execution_count": 74,
   "metadata": {},
   "outputs": [
    {
     "data": {
      "image/png": "[encoded data removed]",
      "text/plain": [
       "<Figure size 1080x576 with 1 Axes>"
      ]
     },
     "metadata": {
      "needs_background": "light"
     },
     "output_type": "display_data"
    }
   ],
   "source": [
    "# now stack and reset\n",
    "stacked = profil_colonne_grav_lum.drop(columns='Total').stack().reset_index().rename(columns={0:'value'})\n",
    "\n",
    "fig = plt.figure(7, figsize=(15, 8))\n",
    "\n",
    "\n",
    "# plot grouped bar chart\n",
    "ax = sns.barplot(x=stacked.grav, y=stacked.value, hue=stacked.lum, palette=\"PuBu\")\n",
    "ax.set_title(\"Graphique à bâtons sur les profils colonnes, regroupement par gravité\")\n",
    "ax.set_xlabel(\"Gravité\")\n",
    "ax.set_ylabel('Pourcentage')\n",
    "\n",
    "plt.legend(title = \"Luminosité\")\n",
    "\n",
    "for p in ax.patches: \n",
    "    ax.annotate(format(p.get_height()) + \"%\", \n",
    "                   (p.get_x() + p.get_width() / 2., p.get_height()), \n",
    "                   ha='center', va='center', \n",
    "                   xytext=(0, 9), \n",
    "                   textcoords='offset points')\n",
    "    \n",
    "plt.show()"
   ]
  },
  {
   "cell_type": "markdown",
   "metadata": {},
   "source": [
    "# ACM"
   ]
  },
  {
   "cell_type": "code",
   "execution_count": null,
   "metadata": {},
   "outputs": [],
   "source": []
  }
 ],
 "metadata": {
  "kernelspec": {
   "display_name": "Python 3",
   "language": "python",
   "name": "python3"
  },
  "language_info": {
   "codemirror_mode": {
    "name": "ipython",
    "version": 3
   },
   "file_extension": ".py",
   "mimetype": "text/x-python",
   "name": "python",
   "nbconvert_exporter": "python",
   "pygments_lexer": "ipython3",
   "version": "3.7.4"
  }
 },
 "nbformat": 4,
 "nbformat_minor": 2
}
