{
 "cells": [
  {
   "cell_type": "code",
   "execution_count": 1,
   "id": "360eab31",
   "metadata": {},
   "outputs": [],
   "source": [
    "import folium\n",
    "from folium.plugins import MarkerCluster\n",
    "import pandas as pd\n",
    "import json"
   ]
  },
  {
   "cell_type": "code",
   "execution_count": 2,
   "id": "84634bb2",
   "metadata": {},
   "outputs": [],
   "source": [
    "# Visualisation du fichier JSON"
   ]
  },
  {
   "cell_type": "code",
   "execution_count": 3,
   "id": "d7d5bfd5",
   "metadata": {},
   "outputs": [
    {
     "data": {
      "text/plain": [
       "<bound method NDFrame.head of       latitude   longitude  prediction\n",
       "0   -27.482279  153.028723           2\n",
       "1   -27.470590  153.036046           2\n",
       "2   -27.474531  153.042728           1\n",
       "3   -27.461881  153.046986           1\n",
       "4   -27.469658  153.016696           2\n",
       "..         ...         ...         ...\n",
       "144 -27.465880  153.026861           2\n",
       "145 -27.470110  153.025627           2\n",
       "146 -27.462665  153.029087           2\n",
       "147 -27.468120  153.026820           2\n",
       "148 -27.481137  153.019284           2\n",
       "\n",
       "[149 rows x 3 columns]>"
      ]
     },
     "execution_count": 3,
     "metadata": {},
     "output_type": "execute_result"
    }
   ],
   "source": [
    "data=pd.read_json(\"C:/Users/Adrien/Documents/ProjetsM2/ProjetsScalaSpark/Kmeans-spark/exported/fitted.json\", lines = True)\n",
    "data.head"
   ]
  },
  {
   "cell_type": "code",
   "execution_count": 4,
   "id": "742d25cd",
   "metadata": {},
   "outputs": [],
   "source": [
    "# création de la carte de Brisbane et sauvegarde au format HTML"
   ]
  },
  {
   "cell_type": "code",
   "execution_count": 5,
   "id": "305863ef",
   "metadata": {},
   "outputs": [],
   "source": [
    "m=folium.Map(location=[-27.482279,153.028723],zoom_start=12)"
   ]
  },
  {
   "cell_type": "code",
   "execution_count": 6,
   "id": "63b81d26",
   "metadata": {},
   "outputs": [],
   "source": [
    "# création des groupes puis création des marqueurs \n",
    "#(avec une couleur différente pour chaque cluster) à partir du fichier fitted"
   ]
  },
  {
   "cell_type": "code",
   "execution_count": 7,
   "id": "16ee700a",
   "metadata": {},
   "outputs": [],
   "source": [
    "#hello"
   ]
  },
  {
   "cell_type": "code",
   "execution_count": 7,
   "id": "8218a16a",
   "metadata": {},
   "outputs": [],
   "source": [
    "data0=data[data['prediction']==0].reset_index(drop = True) \n",
    "\n",
    "data1=data[data['prediction']==1].reset_index(drop = True) \n",
    "data2=data[data['prediction']==2].reset_index(drop = True) \n",
    "\n",
    "for l in range(data0.shape[0]-1):\n",
    "    folium.Marker([data0['latitude'][l],data0['longitude'][l]],icon=folium.Icon(color='red')).add_to(m)\n",
    "\n",
    "for l in range(data1.shape[0]-1):\n",
    "    folium.Marker([data1['latitude'][l],data1['longitude'][l]],icon=folium.Icon(color='blue')).add_to(m)\n",
    "    \n",
    "for l in range(data2.shape[0]-1):\n",
    "    folium.Marker([data2['latitude'][l],data2['longitude'][l]],icon=folium.Icon(color='beige')).add_to(m)\n",
    "\n"
   ]
  },
  {
   "cell_type": "code",
   "execution_count": 8,
   "id": "d9e6a908",
   "metadata": {},
   "outputs": [],
   "source": [
    "m.save('map.html')"
   ]
  },
  {
   "cell_type": "code",
   "execution_count": null,
   "id": "4dbaa2d0",
   "metadata": {},
   "outputs": [],
   "source": []
  }
 ],
 "metadata": {
  "kernelspec": {
   "display_name": "Python 3 (ipykernel)",
   "language": "python",
   "name": "python3"
  },
  "language_info": {
   "codemirror_mode": {
    "name": "ipython",
    "version": 3
   },
   "file_extension": ".py",
   "mimetype": "text/x-python",
   "name": "python",
   "nbconvert_exporter": "python",
   "pygments_lexer": "ipython3",
   "version": "3.9.7"
  }
 },
 "nbformat": 4,
 "nbformat_minor": 5
}
